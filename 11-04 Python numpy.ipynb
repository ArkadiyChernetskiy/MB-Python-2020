{
 "metadata": {
  "language_info": {
   "codemirror_mode": {
    "name": "ipython",
    "version": 3
   },
   "file_extension": ".py",
   "mimetype": "text/x-python",
   "name": "python",
   "nbconvert_exporter": "python",
   "pygments_lexer": "ipython3",
   "version": "3.8.3-final"
  },
  "orig_nbformat": 2,
  "kernelspec": {
   "name": "python3",
   "display_name": "Python 3"
  }
 },
 "nbformat": 4,
 "nbformat_minor": 2,
 "cells": [
  {
   "source": [
    "# Numpy\n",
    "## Definition"
   ],
   "cell_type": "markdown",
   "metadata": {}
  },
  {
   "cell_type": "code",
   "execution_count": 2,
   "metadata": {},
   "outputs": [],
   "source": [
    "import numpy as np"
   ]
  },
  {
   "source": [
    "Hope that you not see the error in command above. In other case you should download `numpy` with `pip` insturment. "
   ],
   "cell_type": "markdown",
   "metadata": {}
  },
  {
   "cell_type": "code",
   "execution_count": 3,
   "metadata": {},
   "outputs": [
    {
     "output_type": "stream",
     "name": "stdout",
     "text": [
      "^C\n"
     ]
    }
   ],
   "source": [
    "!pip install numpy# be careful with windows os. To install it inside Windows it very recomended to open console cmd.exe by yourself and write this command"
   ]
  },
  {
   "source": [
    "If you install numpy successfully lets continue. \n",
    "\n",
    "Numpy library is a library that contain convenient representation of multidimentional arrays. Or, more simple, the number of convenient functions for matrix with N dimensions.\n",
    "\n",
    "The main difference from usual lists is numpy array has specified type and can contain only the elements of one type."
   ],
   "cell_type": "markdown",
   "metadata": {}
  },
  {
   "cell_type": "code",
   "execution_count": 2,
   "metadata": {},
   "outputs": [
    {
     "output_type": "stream",
     "name": "stdout",
     "text": [
      "[1 2 3 4]\n"
     ]
    }
   ],
   "source": [
    "a = np.array ([1,2,3,4])\n",
    "print (a)"
   ]
  },
  {
   "cell_type": "code",
   "execution_count": 11,
   "metadata": {},
   "outputs": [
    {
     "output_type": "stream",
     "name": "stdout",
     "text": [
      "[1. 2. 3. 4.]\n"
     ]
    }
   ],
   "source": [
    "b = np.array ([1,2,3,4.0])\n",
    "print (b) #all elements is float"
   ]
  },
  {
   "cell_type": "code",
   "execution_count": 12,
   "metadata": {},
   "outputs": [
    {
     "output_type": "stream",
     "name": "stdout",
     "text": [
      "['1' '2' '3' '4']\n"
     ]
    }
   ],
   "source": [
    "c = np.array ([1,2,3,'4'])\n",
    "print (c) #all elements become characters"
   ]
  },
  {
   "cell_type": "code",
   "execution_count": 6,
   "metadata": {},
   "outputs": [
    {
     "output_type": "stream",
     "name": "stdout",
     "text": [
      "['1' '2' '3.0' 'd']\n"
     ]
    }
   ],
   "source": [
    "d = np.array ([1,2,3.0,'d'])\n",
    "print (d)"
   ]
  },
  {
   "source": [
    "And for each array we can print its type"
   ],
   "cell_type": "markdown",
   "metadata": {}
  },
  {
   "cell_type": "code",
   "execution_count": 13,
   "metadata": {},
   "outputs": [
    {
     "output_type": "stream",
     "name": "stdout",
     "text": [
      "int32 float64 <U11 <U32\n"
     ]
    }
   ],
   "source": [
    "print (a.dtype, b.dtype, c.dtype, d.dtype)"
   ]
  },
  {
   "source": [
    "<U11 mean UTF-8 and <U32 UTF-32. The list of all types you can see in documentation on site https://numpy.org/devdocs/user/basics.types.html\n",
    "\n",
    "So, if we try to add into array an element of different type it will broke"
   ],
   "cell_type": "markdown",
   "metadata": {}
  },
  {
   "cell_type": "code",
   "execution_count": 19,
   "metadata": {},
   "outputs": [
    {
     "output_type": "stream",
     "name": "stdout",
     "text": [
      "[1 1 3]\n[1 1 3]\n"
     ]
    },
    {
     "output_type": "error",
     "ename": "ValueError",
     "evalue": "invalid literal for int() with base 10: 'a'",
     "traceback": [
      "\u001b[1;31m---------------------------------------------------------------------------\u001b[0m",
      "\u001b[1;31mValueError\u001b[0m                                Traceback (most recent call last)",
      "\u001b[1;32m<ipython-input-19-16b4cbd8955d>\u001b[0m in \u001b[0;36m<module>\u001b[1;34m\u001b[0m\n\u001b[0;32m      3\u001b[0m \u001b[0ma\u001b[0m\u001b[1;33m[\u001b[0m\u001b[1;36m1\u001b[0m\u001b[1;33m]\u001b[0m \u001b[1;33m=\u001b[0m \u001b[1;34m'1'\u001b[0m \u001b[1;31m#numpy is smart enougth to convert char into number\u001b[0m\u001b[1;33m\u001b[0m\u001b[1;33m\u001b[0m\u001b[0m\n\u001b[0;32m      4\u001b[0m \u001b[0mprint\u001b[0m \u001b[1;33m(\u001b[0m\u001b[0ma\u001b[0m\u001b[1;33m)\u001b[0m\u001b[1;33m\u001b[0m\u001b[1;33m\u001b[0m\u001b[0m\n\u001b[1;32m----> 5\u001b[1;33m \u001b[0ma\u001b[0m\u001b[1;33m[\u001b[0m\u001b[1;36m1\u001b[0m\u001b[1;33m]\u001b[0m \u001b[1;33m=\u001b[0m \u001b[1;34m'a'\u001b[0m \u001b[1;31m#exception\u001b[0m\u001b[1;33m\u001b[0m\u001b[1;33m\u001b[0m\u001b[0m\n\u001b[0m",
      "\u001b[1;31mValueError\u001b[0m: invalid literal for int() with base 10: 'a'"
     ]
    }
   ],
   "source": [
    "a[1] = 1\n",
    "print (a)\n",
    "a[1] = '1' #numpy is smart enougth to convert char into number\n",
    "print (a)\n",
    "a[1] = 'a' #exception"
   ]
  },
  {
   "source": [
    "What more interesting - numpy arrays has fixied size, so after creating it you cannot append\\insert\\add element inside it, only change them or it construction"
   ],
   "cell_type": "markdown",
   "metadata": {}
  },
  {
   "cell_type": "code",
   "execution_count": 3,
   "metadata": {},
   "outputs": [
    {
     "output_type": "error",
     "ename": "AttributeError",
     "evalue": "'numpy.ndarray' object has no attribute 'append'",
     "traceback": [
      "\u001b[1;31m---------------------------------------------------------------------------\u001b[0m",
      "\u001b[1;31mAttributeError\u001b[0m                            Traceback (most recent call last)",
      "\u001b[1;32m<ipython-input-3-c4e96a3c2878>\u001b[0m in \u001b[0;36m<module>\u001b[1;34m\u001b[0m\n\u001b[1;32m----> 1\u001b[1;33m \u001b[0ma\u001b[0m\u001b[1;33m.\u001b[0m\u001b[0mappend\u001b[0m\u001b[1;33m(\u001b[0m\u001b[1;36m0\u001b[0m\u001b[1;33m)\u001b[0m\u001b[1;33m\u001b[0m\u001b[1;33m\u001b[0m\u001b[0m\n\u001b[0m",
      "\u001b[1;31mAttributeError\u001b[0m: 'numpy.ndarray' object has no attribute 'append'"
     ]
    }
   ],
   "source": [
    "a.append(0)"
   ]
  },
  {
   "source": [
    "But there is method resize, that can you change the size of array. Still, try to not use it because to execute this command compiler need a big amount of time (for copy and creating a new memory cells)"
   ],
   "cell_type": "markdown",
   "metadata": {}
  },
  {
   "cell_type": "code",
   "execution_count": 4,
   "metadata": {},
   "outputs": [
    {
     "output_type": "stream",
     "name": "stdout",
     "text": [
      "[1 2 3 4 0]\n"
     ]
    }
   ],
   "source": [
    "a.resize (5)\n",
    "print (a)"
   ]
  },
  {
   "source": [
    "## Base"
   ],
   "cell_type": "markdown",
   "metadata": {}
  },
  {
   "source": [
    "So, after a little introdaction into ndarray lets move to bases of numpy\n",
    "Fisrt of all how we can create an array and what it actualy contain.\n",
    "\n",
    "Hw we already discuss numpy is smart enoght to create an array from different data by transforming it. There are also some more useful commands. But we start from some additional useful information inside ndarray"
   ],
   "cell_type": "markdown",
   "metadata": {}
  },
  {
   "cell_type": "code",
   "execution_count": 5,
   "metadata": {},
   "outputs": [
    {
     "output_type": "stream",
     "name": "stdout",
     "text": [
      "[1 2 3 4] [1. 2. 3. 4.]\n"
     ]
    }
   ],
   "source": [
    "a = np.array ([1,2,3,4])\n",
    "b = np.array ([1,2,3,4], dtype = np.double)\n",
    "print (a, b)"
   ]
  },
  {
   "source": [
    "Some variables that contain size parameters"
   ],
   "cell_type": "markdown",
   "metadata": {}
  },
  {
   "cell_type": "code",
   "execution_count": 9,
   "metadata": {},
   "outputs": [
    {
     "output_type": "stream",
     "name": "stdout",
     "text": [
      "1\n\n[[1 2 3]\n [4 5 6]]\n"
     ]
    },
    {
     "output_type": "execute_result",
     "data": {
      "text/plain": [
       "2"
      ]
     },
     "metadata": {},
     "execution_count": 9
    }
   ],
   "source": [
    "print (a.ndim)# how many dimension we use: line - 1 dimension; matrix - 2 dimensions\n",
    "print () \n",
    "c = np.array ([[1,2,3], [4,5,6]])\n",
    "print (c)\n",
    "c.ndim"
   ]
  },
  {
   "cell_type": "code",
   "execution_count": 11,
   "metadata": {},
   "outputs": [
    {
     "output_type": "stream",
     "name": "stdout",
     "text": [
      "(4,)\n(2, 3)\n"
     ]
    }
   ],
   "source": [
    "print (a.shape) #typle with one element write like (x,)\n",
    "print (c.shape)"
   ]
  },
  {
   "cell_type": "code",
   "execution_count": 14,
   "metadata": {},
   "outputs": [
    {
     "output_type": "stream",
     "name": "stdout",
     "text": [
      "4\n6\n"
     ]
    }
   ],
   "source": [
    "print (a.size)\n",
    "print (c.size)"
   ]
  },
  {
   "source": [
    "Now some function about types and size in memory"
   ],
   "cell_type": "markdown",
   "metadata": {}
  },
  {
   "cell_type": "code",
   "execution_count": 18,
   "metadata": {},
   "outputs": [
    {
     "output_type": "stream",
     "name": "stdout",
     "text": [
      "int32\nfloat64\n"
     ]
    }
   ],
   "source": [
    "print (a.dtype)\n",
    "b = np.array([1,2,3], dtype = np.double) # creating an array with fixed type\n",
    "print (b.dtype)"
   ]
  },
  {
   "cell_type": "code",
   "execution_count": 19,
   "metadata": {},
   "outputs": [
    {
     "output_type": "stream",
     "name": "stdout",
     "text": [
      "4\n8\n"
     ]
    }
   ],
   "source": [
    "print (a.itemsize) #how many bytes it take to store one element of array\n",
    "print (b.itemsize)"
   ]
  },
  {
   "source": [
    "## Creating of array\n",
    "\n",
    "### By fullfill with elements\n",
    "So, with the main way for creating an arrays you already met. No lets try some more interesting ways\\hint to create an array"
   ],
   "cell_type": "markdown",
   "metadata": {}
  },
  {
   "cell_type": "code",
   "execution_count": 29,
   "metadata": {},
   "outputs": [
    {
     "output_type": "error",
     "ename": "TypeError",
     "evalue": "array() takes from 1 to 2 positional arguments but 6 were given",
     "traceback": [
      "\u001b[1;31m---------------------------------------------------------------------------\u001b[0m",
      "\u001b[1;31mTypeError\u001b[0m                                 Traceback (most recent call last)",
      "\u001b[1;32m<ipython-input-29-5cee8db81d86>\u001b[0m in \u001b[0;36m<module>\u001b[1;34m\u001b[0m\n\u001b[0;32m      1\u001b[0m \u001b[1;31m#one important point, you should put inside init of array the list of elements, not just elements\u001b[0m\u001b[1;33m\u001b[0m\u001b[1;33m\u001b[0m\u001b[1;33m\u001b[0m\u001b[0m\n\u001b[1;32m----> 2\u001b[1;33m \u001b[0ma\u001b[0m \u001b[1;33m=\u001b[0m \u001b[0mnp\u001b[0m\u001b[1;33m.\u001b[0m\u001b[0marray\u001b[0m\u001b[1;33m(\u001b[0m\u001b[1;36m1\u001b[0m\u001b[1;33m,\u001b[0m\u001b[1;36m2\u001b[0m\u001b[1;33m,\u001b[0m\u001b[1;36m3\u001b[0m\u001b[1;33m,\u001b[0m\u001b[1;36m4\u001b[0m\u001b[1;33m,\u001b[0m\u001b[1;36m5\u001b[0m\u001b[1;33m,\u001b[0m\u001b[1;36m6\u001b[0m\u001b[1;33m)\u001b[0m\u001b[1;33m\u001b[0m\u001b[1;33m\u001b[0m\u001b[0m\n\u001b[0m",
      "\u001b[1;31mTypeError\u001b[0m: array() takes from 1 to 2 positional arguments but 6 were given"
     ]
    }
   ],
   "source": [
    "#one important point, you should put inside init of array the list of elements, not just elements\n",
    "a = np.array(1,2,3,4,5,6) # not correct"
   ]
  },
  {
   "cell_type": "code",
   "execution_count": 30,
   "metadata": {},
   "outputs": [],
   "source": [
    "a = np.array ([1,2,3,4,5,6]) # correct"
   ]
  },
  {
   "cell_type": "code",
   "execution_count": 20,
   "metadata": {},
   "outputs": [
    {
     "output_type": "execute_result",
     "data": {
      "text/plain": [
       "array([[0, 0],\n",
       "       [0, 0]])"
      ]
     },
     "metadata": {},
     "execution_count": 20
    }
   ],
   "source": [
    "np.zeros ((2,2), dtype = np.int32) # array filled with zero elements"
   ]
  },
  {
   "cell_type": "code",
   "execution_count": 23,
   "metadata": {},
   "outputs": [
    {
     "output_type": "execute_result",
     "data": {
      "text/plain": [
       "array([[[1., 1.],\n",
       "        [1., 1.]],\n",
       "\n",
       "       [[1., 1.],\n",
       "        [1., 1.]]])"
      ]
     },
     "metadata": {},
     "execution_count": 23
    }
   ],
   "source": [
    "np.ones ((2,2,2), dtype = np.float)"
   ]
  },
  {
   "cell_type": "code",
   "execution_count": 35,
   "metadata": {},
   "outputs": [
    {
     "output_type": "execute_result",
     "data": {
      "text/plain": [
       "array([[1., 0., 0., 0.],\n",
       "       [0., 1., 0., 0.],\n",
       "       [0., 0., 1., 0.],\n",
       "       [0., 0., 0., 1.]])"
      ]
     },
     "metadata": {},
     "execution_count": 35
    }
   ],
   "source": [
    "np.identity (4) # create the matrix with 1 at main diagonal and 0 in other elements"
   ]
  },
  {
   "source": [
    "More generalized function"
   ],
   "cell_type": "markdown",
   "metadata": {}
  },
  {
   "cell_type": "code",
   "execution_count": 25,
   "metadata": {},
   "outputs": [
    {
     "output_type": "execute_result",
     "data": {
      "text/plain": [
       "array([[120, 120],\n",
       "       [120, 120],\n",
       "       [120, 120]], dtype=int64)"
      ]
     },
     "metadata": {},
     "execution_count": 25
    }
   ],
   "source": [
    "np.full ((3,2), 120, dtype = np.int64)"
   ]
  },
  {
   "source": [
    "### By using the already created array\n",
    "\n",
    "And you can use already created array construction to construct new one"
   ],
   "cell_type": "markdown",
   "metadata": {}
  },
  {
   "cell_type": "code",
   "execution_count": 28,
   "metadata": {},
   "outputs": [
    {
     "output_type": "stream",
     "name": "stdout",
     "text": [
      "[1 2 3 4]\n[32 32 32 32]\n\n[1. 2. 3.]\n[32. 32. 32.]\n\n[[1 2 3]\n [4 5 6]]\n[[32 32 32]\n [32 32 32]]\n"
     ]
    }
   ],
   "source": [
    "print (a)\n",
    "print (np.full_like (a, 32))\n",
    "print ()\n",
    "print (b)\n",
    "print (np.full_like (b, 32))\n",
    "print ()\n",
    "print (c)\n",
    "print (np.full_like (c, 32))"
   ]
  },
  {
   "cell_type": "code",
   "execution_count": 46,
   "metadata": {},
   "outputs": [
    {
     "output_type": "stream",
     "name": "stdout",
     "text": [
      "[1 1 1 2 2 2 3 3 3 4 4 4 5 5 5 6 6 6]\n\n[[1 2 3]\n [4 5 6]]\n\n[1 1 2 2 3 3 4 4 5 5 6 6]\n[[1 2 3]\n [1 2 3]\n [4 5 6]\n [4 5 6]]\n[[1 1 2 2 3 3]\n [4 4 5 5 6 6]]\n"
     ]
    }
   ],
   "source": [
    "print (np.repeat (a, 3)) # like a*3 for list\n",
    "print ()\n",
    "print (c)\n",
    "print ()\n",
    "print (np.repeat (c, 2)) # in default create a usual array with repeted elements of each array\n",
    "print (np.repeat (c, 2, axis=0)) # mean repeat the arrays of array (0 axes, by lines)\n",
    "print (np.repeat (c, 2, axis=1)) # mean repeat the element inside each array (1 axes, by column)"
   ]
  },
  {
   "source": [
    "### With range analog\n",
    "\n",
    "And plus to this there is range analogs - arange (start, end, step) and linspace(start, end, number of elements between)"
   ],
   "cell_type": "markdown",
   "metadata": {}
  },
  {
   "cell_type": "code",
   "execution_count": 31,
   "metadata": {},
   "outputs": [
    {
     "output_type": "execute_result",
     "data": {
      "text/plain": [
       "array([1. , 1.5, 2. , 2.5, 3. , 3.5, 4. , 4.5, 5. , 5.5, 6. , 6.5, 7. ,\n",
       "       7.5, 8. , 8.5, 9. , 9.5])"
      ]
     },
     "metadata": {},
     "execution_count": 31
    }
   ],
   "source": [
    "np.arange (1,10, 0.5) # with double step, yes)"
   ]
  },
  {
   "cell_type": "code",
   "execution_count": 34,
   "metadata": {},
   "outputs": [
    {
     "output_type": "execute_result",
     "data": {
      "text/plain": [
       "array([1. , 1.4, 1.8, 2.2, 2.6, 3. , 3.4, 3.8, 4.2, 4.6, 5. ])"
      ]
     },
     "metadata": {},
     "execution_count": 34
    }
   ],
   "source": [
    "np.linspace (1,5,11) # fill array with evenly distributed elements"
   ]
  },
  {
   "source": [
    "### Random values\n",
    "\n",
    "Plus to all of this numpy can create an array with random elements from the box"
   ],
   "cell_type": "markdown",
   "metadata": {}
  },
  {
   "cell_type": "code",
   "execution_count": 47,
   "metadata": {},
   "outputs": [
    {
     "output_type": "execute_result",
     "data": {
      "text/plain": [
       "array([[0.43449641, 0.58308811],\n",
       "       [0.9962799 , 0.82571491]])"
      ]
     },
     "metadata": {},
     "execution_count": 47
    }
   ],
   "source": [
    "np.random.rand (2,2) # random array with shape (2,2) with elements from 0 to 1"
   ]
  },
  {
   "cell_type": "code",
   "execution_count": 59,
   "metadata": {},
   "outputs": [
    {
     "output_type": "stream",
     "name": "stdout",
     "text": [
      "498\n[[171 489]\n [208 589]]\n"
     ]
    }
   ],
   "source": [
    "print (np.random.randint (0, 1000)) # random number from a to b\n",
    "print (np.random.randint (0, 1000, size =(2,2))) # fill the array (2,2) with random elements in range (0,1000)"
   ]
  },
  {
   "source": [
    "### Copy\n",
    "\n",
    "And the last method - just copy array. Be careful, if you just write a = b you not copy the array, but create a new link to original one"
   ],
   "cell_type": "markdown",
   "metadata": {}
  },
  {
   "cell_type": "code",
   "execution_count": 60,
   "metadata": {},
   "outputs": [
    {
     "output_type": "stream",
     "name": "stdout",
     "text": [
      "[ 1 10  3  4]\n"
     ]
    }
   ],
   "source": [
    "a = np.array ([1,2,3,4])\n",
    "b = a\n",
    "b [1] = 10\n",
    "print (a)"
   ]
  },
  {
   "cell_type": "code",
   "execution_count": 61,
   "metadata": {},
   "outputs": [
    {
     "output_type": "stream",
     "name": "stdout",
     "text": [
      "[1 2 3 4]\n[ 1 10  3  4]\n"
     ]
    }
   ],
   "source": [
    "a = np.array ([1,2,3,4])\n",
    "b = a.copy()\n",
    "b [1] = 10\n",
    "print (a)\n",
    "print (b)"
   ]
  },
  {
   "source": [
    "## Accessing elements\n",
    "\n",
    "Another one interesting momnet inside numpy is accessing different element with a lot small hints, from accessing column by column to submatrix. So, lets begin"
   ],
   "cell_type": "markdown",
   "metadata": {}
  },
  {
   "cell_type": "code",
   "execution_count": 4,
   "metadata": {},
   "outputs": [],
   "source": [
    "a = np.array ([[1,2,3], [4,5,6], [7,8,9]])"
   ]
  },
  {
   "source": [
    "The first one is just access to one element with it indices"
   ],
   "cell_type": "markdown",
   "metadata": {}
  },
  {
   "cell_type": "code",
   "execution_count": 6,
   "metadata": {},
   "outputs": [
    {
     "output_type": "execute_result",
     "data": {
      "text/plain": [
       "6"
      ]
     },
     "metadata": {},
     "execution_count": 6
    }
   ],
   "source": [
    "print (a[1][2]) # like in lists"
   ]
  },
  {
   "cell_type": "code",
   "execution_count": 7,
   "metadata": {},
   "outputs": [
    {
     "output_type": "stream",
     "name": "stdout",
     "text": [
      "6\n"
     ]
    }
   ],
   "source": [
    "print (a[1,2]) # indices as array, more convenient doen't it?"
   ]
  },
  {
   "cell_type": "code",
   "execution_count": 11,
   "metadata": {},
   "outputs": [
    {
     "output_type": "stream",
     "name": "stdout",
     "text": [
      "6\n"
     ]
    }
   ],
   "source": [
    "b = (1,2)\n",
    "print (a[b]) # with tuple as indices"
   ]
  },
  {
   "source": [
    "### Slices \n",
    "\n",
    "And of course we can slice a number of elements inside numpy array"
   ],
   "cell_type": "markdown",
   "metadata": {}
  },
  {
   "cell_type": "code",
   "execution_count": 13,
   "metadata": {},
   "outputs": [
    {
     "output_type": "stream",
     "name": "stdout",
     "text": [
      "[[1 2 3]\n [4 5 6]]\n"
     ]
    }
   ],
   "source": [
    "print (a[0:2]) #like in usual array"
   ]
  },
  {
   "cell_type": "code",
   "execution_count": 14,
   "metadata": {},
   "outputs": [
    {
     "output_type": "stream",
     "name": "stdout",
     "text": [
      "[[1 2 3]]\n"
     ]
    }
   ],
   "source": [
    "print (a[0:2][0:1]) # How you can see, here we only slice matrix into line, not elements by column"
   ]
  },
  {
   "cell_type": "code",
   "execution_count": 41,
   "metadata": {},
   "outputs": [
    {
     "output_type": "stream",
     "name": "stdout",
     "text": [
      "[[469 300]\n [ 85   1]]\n\n[[538 175 863 420]\n [829 167 475  17]\n [318 642 691 714]\n [799 411 513 691]]\n[[167 475]\n [642 691]]\n[[175 863]\n [167 475]\n [642 691]\n [411 513]]\n"
     ]
    }
   ],
   "source": [
    "# For this purpose how you can guessd we use tuple\n",
    "print (a[0:2,0:2])\n",
    "\n",
    "a = np.random.randint (1, 1000, size = (4,4))\n",
    "print ()\n",
    "print (a)\n",
    "print (a[1:3,1:3]) # take submatrix\n",
    "print (a[:, 1:3]) # take only some columns"
   ]
  },
  {
   "source": [
    "And we can use step parametr"
   ],
   "cell_type": "markdown",
   "metadata": {}
  },
  {
   "cell_type": "code",
   "execution_count": 28,
   "metadata": {},
   "outputs": [
    {
     "output_type": "stream",
     "name": "stdout",
     "text": [
      "[[469 300 688 858]\n [ 85 311 229 389]\n [568 704  99 688]\n [769 810 229 265]]\n[[469 688]\n [568  99]]\n"
     ]
    }
   ],
   "source": [
    "print (a)\n"
   ]
  },
  {
   "cell_type": "code",
   "execution_count": 31,
   "metadata": {},
   "outputs": [
    {
     "output_type": "stream",
     "name": "stdout",
     "text": [
      "[469 688]\n"
     ]
    }
   ],
   "source": [
    "print (a[0,0:4:2])"
   ]
  },
  {
   "cell_type": "code",
   "execution_count": 32,
   "metadata": {},
   "outputs": [
    {
     "output_type": "stream",
     "name": "stdout",
     "text": [
      "[[469 688]\n [568  99]]\n"
     ]
    }
   ],
   "source": [
    "print (a[0:4:2,0:4:2])"
   ]
  },
  {
   "source": [
    "### Replace\n",
    "\n",
    "Also, you can replace subarray of your array with other array"
   ],
   "cell_type": "markdown",
   "metadata": {}
  },
  {
   "cell_type": "code",
   "execution_count": 43,
   "metadata": {},
   "outputs": [
    {
     "output_type": "stream",
     "name": "stdout",
     "text": [
      "[[538 175 863 420]\n [829 167 475  17]\n [318 642 691 714]\n [799 411 513 691]]\n"
     ]
    }
   ],
   "source": [
    "print (a)\n",
    "b = a.copy()"
   ]
  },
  {
   "cell_type": "code",
   "execution_count": 39,
   "metadata": {},
   "outputs": [
    {
     "output_type": "stream",
     "name": "stdout",
     "text": [
      "[[469 300 688 858]\n [ 85   1   1 389]\n [568   1   1 688]\n [769 810 229 265]]\n"
     ]
    }
   ],
   "source": [
    "a[1:3,1:3] = np.ones ((2,2))\n",
    "print (a)"
   ]
  },
  {
   "source": [
    "But you should remember that the new array should have the same size as part that you want change"
   ],
   "cell_type": "markdown",
   "metadata": {}
  },
  {
   "cell_type": "code",
   "execution_count": 40,
   "metadata": {},
   "outputs": [
    {
     "output_type": "error",
     "ename": "ValueError",
     "evalue": "could not broadcast input array from shape (3,3) into shape (2,2)",
     "traceback": [
      "\u001b[1;31m---------------------------------------------------------------------------\u001b[0m",
      "\u001b[1;31mValueError\u001b[0m                                Traceback (most recent call last)",
      "\u001b[1;32m<ipython-input-40-4283eb37c420>\u001b[0m in \u001b[0;36m<module>\u001b[1;34m\u001b[0m\n\u001b[1;32m----> 1\u001b[1;33m \u001b[0ma\u001b[0m\u001b[1;33m[\u001b[0m\u001b[1;36m1\u001b[0m\u001b[1;33m:\u001b[0m\u001b[1;36m3\u001b[0m\u001b[1;33m,\u001b[0m\u001b[1;36m1\u001b[0m\u001b[1;33m:\u001b[0m\u001b[1;36m3\u001b[0m\u001b[1;33m]\u001b[0m \u001b[1;33m=\u001b[0m \u001b[0mnp\u001b[0m\u001b[1;33m.\u001b[0m\u001b[0mones\u001b[0m \u001b[1;33m(\u001b[0m\u001b[1;33m(\u001b[0m\u001b[1;36m3\u001b[0m\u001b[1;33m,\u001b[0m\u001b[1;36m3\u001b[0m\u001b[1;33m)\u001b[0m\u001b[1;33m)\u001b[0m\u001b[1;33m\u001b[0m\u001b[1;33m\u001b[0m\u001b[0m\n\u001b[0m",
      "\u001b[1;31mValueError\u001b[0m: could not broadcast input array from shape (3,3) into shape (2,2)"
     ]
    }
   ],
   "source": [
    "a[1:3,1:3] = np.ones ((3,3))"
   ]
  },
  {
   "cell_type": "code",
   "execution_count": 45,
   "metadata": {},
   "outputs": [
    {
     "output_type": "stream",
     "name": "stdout",
     "text": [
      "[[538 175 863 420]\n [829   1 475   1]\n [318 642 691 714]\n [799   1 513   1]]\n"
     ]
    }
   ],
   "source": [
    "a = b.copy()\n",
    "a[1:4:2,1:4:2] = np.ones ((2,2))\n",
    "print (a)"
   ]
  },
  {
   "cell_type": "code",
   "execution_count": 49,
   "metadata": {},
   "outputs": [
    {
     "output_type": "stream",
     "name": "stdout",
     "text": [
      "[[  1   1 863 420]\n [  1   1 475  17]\n [  1   1 691 714]\n [  1   1 513 691]]\n"
     ]
    }
   ],
   "source": [
    "a = b.copy()\n",
    "a[:,(0,1)] = np.ones((4,2)) # change only first two columns\n",
    "print (a)"
   ]
  },
  {
   "cell_type": "code",
   "execution_count": 50,
   "metadata": {},
   "outputs": [
    {
     "output_type": "stream",
     "name": "stdout",
     "text": [
      "[[538 175 863 420]\n [  1   1   1   1]\n [  1   1   1   1]\n [799 411 513 691]]\n"
     ]
    }
   ],
   "source": [
    "a = b.copy()\n",
    "a[(1,2),:] = np.ones((2,4)) # change only the second and third lines\n",
    "print (a)"
   ]
  },
  {
   "source": [
    "### Array as index\n",
    "\n",
    "Finaly we can use array as indices that we want get"
   ],
   "cell_type": "markdown",
   "metadata": {}
  },
  {
   "cell_type": "code",
   "execution_count": 63,
   "metadata": {},
   "outputs": [
    {
     "output_type": "stream",
     "name": "stdout",
     "text": [
      "[[538 175 863 420]\n [  1   1   1   1]\n [  1   1   1   1]\n [799 411 513 691]]\n"
     ]
    }
   ],
   "source": [
    "print(a)"
   ]
  },
  {
   "cell_type": "code",
   "execution_count": 61,
   "metadata": {},
   "outputs": [
    {
     "output_type": "stream",
     "name": "stdout",
     "text": [
      "[[538 175 863 420]\n [799 411 513 691]\n [  1   1   1   1]]\n"
     ]
    }
   ],
   "source": [
    "c = [0,3,2]\n",
    "print (a[c])"
   ]
  },
  {
   "cell_type": "code",
   "execution_count": 92,
   "metadata": {},
   "outputs": [
    {
     "output_type": "stream",
     "name": "stdout",
     "text": [
      "[538 799   1]\n[420 411 863 411]\n"
     ]
    }
   ],
   "source": [
    "c = [(0,3,2),(0,0,1)] # first array is coodrinates for x axes, second array for y axes\n",
    "print (a[c])\n",
    "\n",
    "c = list (zip(*[(0,3),(3,1),(0,2),(3,1)])) # for more convenience we create a pair of elements that we want and repack it with zip\n",
    "print (a[c])"
   ]
  },
  {
   "source": [
    "And we can use even boolean arrays as indices"
   ],
   "cell_type": "markdown",
   "metadata": {}
  },
  {
   "cell_type": "code",
   "execution_count": 93,
   "metadata": {},
   "outputs": [
    {
     "output_type": "stream",
     "name": "stdout",
     "text": [
      "[[538 175 863 420]\n [829 167 475  17]\n [318 642 691 714]\n [799 411 513 691]]\n"
     ]
    }
   ],
   "source": [
    "a = b.copy()\n",
    "print (a)"
   ]
  },
  {
   "cell_type": "code",
   "execution_count": 99,
   "metadata": {},
   "outputs": [
    {
     "output_type": "stream",
     "name": "stdout",
     "text": [
      "[[False  True  True  True]\n [ True  True False  True]\n [ True False  True  True]\n [ True False  True  True]]\n"
     ]
    },
    {
     "output_type": "execute_result",
     "data": {
      "text/plain": [
       "array([175, 863, 420, 829, 167,  17, 318, 691, 714, 799, 513, 691])"
      ]
     },
     "metadata": {},
     "execution_count": 99
    }
   ],
   "source": [
    "c = np.ones ((4,4), dtype = np.bool)\n",
    "c [(2,1,0,3), (1,2,0,1)] = 0\n",
    "print (c)\n",
    "\n",
    "a[c]# We take only the elements where the True"
   ]
  },
  {
   "cell_type": "code",
   "execution_count": 103,
   "metadata": {},
   "outputs": [
    {
     "output_type": "execute_result",
     "data": {
      "text/plain": [
       "array([[175, 863, 420],\n",
       "       [829, 167,  17],\n",
       "       [318, 691, 714],\n",
       "       [799, 513, 691]])"
      ]
     },
     "metadata": {},
     "execution_count": 103
    }
   ],
   "source": [
    "a[c].reshape(4,3)"
   ]
  },
  {
   "source": [
    "## Arithmetic\n",
    "\n",
    "Unlike the standard python list numpy support fast arifmetic operation that work with each element inside array"
   ],
   "cell_type": "markdown",
   "metadata": {}
  },
  {
   "source": [
    "a = np.array ([1,2,3])\n",
    "a + 3"
   ],
   "cell_type": "code",
   "metadata": {},
   "execution_count": 3,
   "outputs": [
    {
     "output_type": "execute_result",
     "data": {
      "text/plain": [
       "array([4, 5, 6])"
      ]
     },
     "metadata": {},
     "execution_count": 3
    }
   ]
  },
  {
   "cell_type": "code",
   "execution_count": 4,
   "metadata": {},
   "outputs": [
    {
     "output_type": "execute_result",
     "data": {
      "text/plain": [
       "array([-1,  0,  1])"
      ]
     },
     "metadata": {},
     "execution_count": 4
    }
   ],
   "source": [
    "a - 2"
   ]
  },
  {
   "cell_type": "code",
   "execution_count": 5,
   "metadata": {},
   "outputs": [
    {
     "output_type": "execute_result",
     "data": {
      "text/plain": [
       "array([3, 6, 9])"
      ]
     },
     "metadata": {},
     "execution_count": 5
    }
   ],
   "source": [
    "a*3"
   ]
  },
  {
   "cell_type": "code",
   "execution_count": 6,
   "metadata": {},
   "outputs": [
    {
     "output_type": "execute_result",
     "data": {
      "text/plain": [
       "array([0.5, 1. , 1.5])"
      ]
     },
     "metadata": {},
     "execution_count": 6
    }
   ],
   "source": [
    "a/2"
   ]
  },
  {
   "cell_type": "code",
   "execution_count": 7,
   "metadata": {},
   "outputs": [
    {
     "output_type": "execute_result",
     "data": {
      "text/plain": [
       "array([0, 1, 1], dtype=int32)"
      ]
     },
     "metadata": {},
     "execution_count": 7
    }
   ],
   "source": [
    "a//2"
   ]
  },
  {
   "source": [
    "And you can made them even with other array"
   ],
   "cell_type": "markdown",
   "metadata": {}
  },
  {
   "cell_type": "code",
   "execution_count": 8,
   "metadata": {},
   "outputs": [
    {
     "output_type": "execute_result",
     "data": {
      "text/plain": [
       "array([5, 7, 9])"
      ]
     },
     "metadata": {},
     "execution_count": 8
    }
   ],
   "source": [
    "b = np.array ([4,5,6])\n",
    "a+b"
   ]
  },
  {
   "cell_type": "code",
   "execution_count": 14,
   "metadata": {},
   "outputs": [
    {
     "output_type": "execute_result",
     "data": {
      "text/plain": [
       "array([-3, -3, -3])"
      ]
     },
     "metadata": {},
     "execution_count": 14
    }
   ],
   "source": [
    "a-b"
   ]
  },
  {
   "cell_type": "code",
   "execution_count": 10,
   "metadata": {},
   "outputs": [
    {
     "output_type": "stream",
     "name": "stdout",
     "text": [
      "[1 2 3]\n[4 5 6]\n"
     ]
    },
    {
     "output_type": "execute_result",
     "data": {
      "text/plain": [
       "array([ 4, 10, 18])"
      ]
     },
     "metadata": {},
     "execution_count": 10
    }
   ],
   "source": [
    "print (a)\n",
    "print (b)\n",
    "a*b"
   ]
  },
  {
   "cell_type": "code",
   "execution_count": 11,
   "metadata": {},
   "outputs": [
    {
     "output_type": "execute_result",
     "data": {
      "text/plain": [
       "array([0.25, 0.4 , 0.5 ])"
      ]
     },
     "metadata": {},
     "execution_count": 11
    }
   ],
   "source": [
    "a/b"
   ]
  },
  {
   "cell_type": "code",
   "execution_count": 12,
   "metadata": {},
   "outputs": [
    {
     "output_type": "execute_result",
     "data": {
      "text/plain": [
       "array([0, 0, 0], dtype=int32)"
      ]
     },
     "metadata": {},
     "execution_count": 12
    }
   ],
   "source": [
    "a//b"
   ]
  },
  {
   "cell_type": "code",
   "execution_count": 13,
   "metadata": {},
   "outputs": [
    {
     "output_type": "execute_result",
     "data": {
      "text/plain": [
       "array([  1,  32, 729], dtype=int32)"
      ]
     },
     "metadata": {},
     "execution_count": 13
    }
   ],
   "source": [
    "a**b #power"
   ]
  },
  {
   "source": [
    "However arrays should have same shapes"
   ],
   "cell_type": "markdown",
   "metadata": {}
  },
  {
   "cell_type": "code",
   "execution_count": 16,
   "metadata": {},
   "outputs": [
    {
     "output_type": "error",
     "ename": "ValueError",
     "evalue": "operands could not be broadcast together with shapes (2,2) (4,) ",
     "traceback": [
      "\u001b[1;31m---------------------------------------------------------------------------\u001b[0m",
      "\u001b[1;31mValueError\u001b[0m                                Traceback (most recent call last)",
      "\u001b[1;32m<ipython-input-16-5aba55bb8c88>\u001b[0m in \u001b[0;36m<module>\u001b[1;34m\u001b[0m\n\u001b[0;32m      1\u001b[0m \u001b[0ma\u001b[0m \u001b[1;33m=\u001b[0m \u001b[0mnp\u001b[0m\u001b[1;33m.\u001b[0m\u001b[0marray\u001b[0m \u001b[1;33m(\u001b[0m\u001b[1;33m[\u001b[0m\u001b[1;33m[\u001b[0m\u001b[1;36m1\u001b[0m\u001b[1;33m,\u001b[0m\u001b[1;36m2\u001b[0m\u001b[1;33m]\u001b[0m\u001b[1;33m,\u001b[0m\u001b[1;33m[\u001b[0m\u001b[1;36m3\u001b[0m\u001b[1;33m,\u001b[0m\u001b[1;36m4\u001b[0m\u001b[1;33m]\u001b[0m\u001b[1;33m]\u001b[0m\u001b[1;33m)\u001b[0m\u001b[1;33m\u001b[0m\u001b[1;33m\u001b[0m\u001b[0m\n\u001b[0;32m      2\u001b[0m \u001b[0mb\u001b[0m \u001b[1;33m=\u001b[0m \u001b[0mnp\u001b[0m\u001b[1;33m.\u001b[0m\u001b[0marray\u001b[0m \u001b[1;33m(\u001b[0m\u001b[1;33m[\u001b[0m\u001b[1;33m-\u001b[0m\u001b[1;36m1\u001b[0m\u001b[1;33m,\u001b[0m\u001b[1;36m0\u001b[0m\u001b[1;33m,\u001b[0m\u001b[1;36m1\u001b[0m\u001b[1;33m,\u001b[0m\u001b[1;36m2\u001b[0m\u001b[1;33m]\u001b[0m\u001b[1;33m)\u001b[0m\u001b[1;33m\u001b[0m\u001b[1;33m\u001b[0m\u001b[0m\n\u001b[1;32m----> 3\u001b[1;33m \u001b[0ma\u001b[0m \u001b[1;33m+\u001b[0m\u001b[0mb\u001b[0m\u001b[1;33m\u001b[0m\u001b[1;33m\u001b[0m\u001b[0m\n\u001b[0m",
      "\u001b[1;31mValueError\u001b[0m: operands could not be broadcast together with shapes (2,2) (4,) "
     ]
    }
   ],
   "source": [
    "a = np.array ([[1,2],[3,4]])\n",
    "b = np.array ([-1,0,1,2])\n",
    "a +b "
   ]
  },
  {
   "source": [
    "Plus to this there are some more complicate function that can help to work with linear algebra"
   ],
   "cell_type": "markdown",
   "metadata": {}
  },
  {
   "cell_type": "code",
   "execution_count": 17,
   "metadata": {},
   "outputs": [
    {
     "output_type": "execute_result",
     "data": {
      "text/plain": [
       "array([[ 0.54030231, -0.41614684],\n",
       "       [-0.9899925 , -0.65364362]])"
      ]
     },
     "metadata": {},
     "execution_count": 17
    }
   ],
   "source": [
    "np.cos(a)"
   ]
  },
  {
   "cell_type": "code",
   "execution_count": 19,
   "metadata": {},
   "outputs": [
    {
     "output_type": "execute_result",
     "data": {
      "text/plain": [
       "array([[ 0.84147098,  0.90929743],\n",
       "       [ 0.14112001, -0.7568025 ]])"
      ]
     },
     "metadata": {},
     "execution_count": 19
    }
   ],
   "source": [
    "np.sin(a)"
   ]
  },
  {
   "cell_type": "code",
   "execution_count": 37,
   "metadata": {},
   "outputs": [
    {
     "output_type": "stream",
     "name": "stdout",
     "text": [
      "[[ 0.76484219 -0.64421769]\n [ 0.64421769  0.76484219]]\n"
     ]
    },
    {
     "output_type": "execute_result",
     "data": {
      "text/plain": [
       "array([[0.76484219, 0.64421769],\n",
       "       [0.64421769, 0.76484219]])"
      ]
     },
     "metadata": {},
     "execution_count": 37
    }
   ],
   "source": [
    "print (b)\n",
    "np.abs(b)"
   ]
  },
  {
   "cell_type": "code",
   "execution_count": 28,
   "metadata": {},
   "outputs": [
    {
     "output_type": "stream",
     "name": "stdout",
     "text": [
      "[[1 2]\n [4 3]]\n\n4\n[2 4]\n[4 3]\n"
     ]
    }
   ],
   "source": [
    "a = np.array ([[1,2], [4,3]])\n",
    "print (a)\n",
    "print ()\n",
    "print (np.max(a))\n",
    "print (np.max(a, axis=1))# maximum in each line\n",
    "print (np.max(a, axis=0))# maximum in each column"
   ]
  },
  {
   "cell_type": "code",
   "execution_count": 35,
   "metadata": {},
   "outputs": [
    {
     "output_type": "stream",
     "name": "stdout",
     "text": [
      "[[1 2]\n [4 3]]\n\n1\n[1 3]\n[1 2]\n"
     ]
    }
   ],
   "source": [
    "a = np.array ([[1,2], [4,3]])\n",
    "print (a)\n",
    "print ()\n",
    "print (np.min(a))\n",
    "print (np.min(a, axis=1))# minimum in each line\n",
    "print (np.min(a, axis=0))# minimum in each column"
   ]
  },
  {
   "cell_type": "code",
   "execution_count": 36,
   "metadata": {},
   "outputs": [
    {
     "output_type": "stream",
     "name": "stdout",
     "text": [
      "[[1 2]\n [4 3]]\n\n10\n[3 7]\n[5 5]\n"
     ]
    }
   ],
   "source": [
    "a = np.array ([[1,2], [4,3]])\n",
    "print (a)\n",
    "print ()\n",
    "print (np.sum(a))\n",
    "print (np.sum(a, axis=1))# sum in each line\n",
    "print (np.sum(a, axis=0))# sum in each column"
   ]
  },
  {
   "cell_type": "code",
   "execution_count": 34,
   "metadata": {},
   "outputs": [
    {
     "output_type": "stream",
     "name": "stdout",
     "text": [
      "[[0.7 0.7]\n [0.7 0.7]]\n[[0.76484219 0.7       ]\n [0.7        0.76484219]]\n[[ 0.76484219 -0.64421769]\n [ 0.64421769  0.76484219]]\n"
     ]
    }
   ],
   "source": [
    "# rotation matrix\n",
    "angel = 0.7\n",
    "b = np.full ((2,2), angel)\n",
    "print (b)\n",
    "b[(0,1),(0,1)] = np.cos (b[(0,1),(0,1)]) #cos function in main diagonal\n",
    "print (b)\n",
    "b[(1,0),(0,1)] = np.sin (b[(1,0),(0,1)]) #sin function in secon diagonal\n",
    "b [0,1] = -b[0,1]\n",
    "print (b)"
   ]
  },
  {
   "cell_type": "code",
   "execution_count": 39,
   "metadata": {},
   "outputs": [
    {
     "output_type": "stream",
     "name": "stdout",
     "text": [
      "[[3 4 5]\n [1 8 8]]\n[[1 8]\n [1 3]\n [5 4]]\n\n[[32 56]\n [49 64]]\n[[11 68 69]\n [ 6 28 29]\n [19 52 57]]\n"
     ]
    }
   ],
   "source": [
    "a = np.random.randint (1,10,(2,3))\n",
    "b = np.random.randint (1,10,(3,2))\n",
    "print (a)\n",
    "print (b)\n",
    "print()\n",
    "\n",
    "print (np.matmul(a,b)) #multiple two matrix\n",
    "print (np.matmul(b,a))"
   ]
  },
  {
   "cell_type": "code",
   "execution_count": 40,
   "metadata": {},
   "outputs": [
    {
     "output_type": "execute_result",
     "data": {
      "text/plain": [
       "-2.557953848736364e-12"
      ]
     },
     "metadata": {},
     "execution_count": 40
    }
   ],
   "source": [
    "np.linalg.det (np.matmul(b,a)) # determinant"
   ]
  },
  {
   "source": [
    "A lot more such operations you can find at https://docs.scipy.org/doc/numpy/reference/routines.linalg.html and https://docs.scipy.org/doc/numpy/reference/routines.math.html\n",
    "\n",
    "Thank you for reading, until the next lecture)"
   ],
   "cell_type": "markdown",
   "metadata": {}
  }
 ]
}