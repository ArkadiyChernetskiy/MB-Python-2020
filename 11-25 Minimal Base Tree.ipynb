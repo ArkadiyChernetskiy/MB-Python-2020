{
 "metadata": {
  "language_info": {
   "codemirror_mode": {
    "name": "ipython",
    "version": 3
   },
   "file_extension": ".py",
   "mimetype": "text/x-python",
   "name": "python",
   "nbconvert_exporter": "python",
   "pygments_lexer": "ipython3",
   "version": 3
  },
  "orig_nbformat": 2
 },
 "nbformat": 4,
 "nbformat_minor": 2,
 "cells": [
  {
   "source": [
    "# Minimum Spanning Tree\n",
    "\n",
    "## Task formulation\n",
    "\n",
    "As always lets begin from what we spoke about previous lecture. A Graph is container that contain two sets - vertices `V` and edges `E`. First one some data nodes and second one the 'pair' of such vertices with some data too.\n",
    "\n",
    "![WeightGraph](images/11-18/weightGraph.gif)\n",
    "\n",
    "So, each edge connect some pair of vertex. And how you can notice at previous lecture we can reach one vertex from other through many different ways. Let's imagine some district where we should create a minimum possible cost road network. First of all there should be no cycle - the path through vertices without repeating of edges from one vertex to it back. For example at graph below from vertex 3 you can move throw 2->1->0->3 without repeating. And if there is some cycle than we can delete minimum one edge and stay all points inside district attainable. In result we can reduce the cost by deleting one edge.\n",
    "\n",
    "![cycle](images/11-25/cycle.png)\n",
    "\n",
    "The second moment - we should choose from the edges the set with minimal cost. And yes, as you can remember we already work with such task - Greedy algorithm. But firstly lets formulate our task that we need solve - Minimal Base Tree: For some Graph `G` we should choose some subset `E1` of edges that will be:\n",
    "\n",
    "- With minimal possible cost\n",
    "- Without cycles\n",
    "- Connect each vertex to graph (without 'free' vertices)\n",
    "\n",
    "Lets try to solve it."
   ],
   "cell_type": "markdown",
   "metadata": {}
  },
  {
   "source": [
    "## Greedy Algorithm\n",
    "\n",
    "Ok, how we previously discuss, we can calculate such tree with greedy algorithm. Lets remember how it work. The Greedy algorithm is some special mechanics of creating solution for optimization task. To prove that it can work we should create matroid.\n",
    "\n",
    "Matroids is the pair `(S,I)`, where `S` - our set `X` and `I` the set of subsets with some special properties:\n",
    "\n",
    "- Empty subset from `S` is element(set is element!) of `I`\n",
    "- If `A` is subset of `B` and `B` is element of `I` than `A` is element of I\n",
    "- If `|A| < |B|` than there is element `x` in `B\\A` that can help us to create a new set `A with x` that will be element of `I`.\n",
    "\n",
    "In our situation `S` - the set of all edges. `I` - set of sets of edges with size less than |V|-1 - size of V minus one without cycles. The all sets of edges with such sizes (|V| - 1) will be Base tree edges set. Lets go:\n",
    " \n",
    "- empty set of edges is the part of `I`.\n",
    "- Subset of edges `A` that is subset of `B` and `B` is element of `I` mean that |B| < |V| and |A|<|B|<|V| -> |A| < |V|. Plus to this because `B` has no cycles that is mean subset of edges `B` has no cycles too. That mean that `A` is element from `I`.\n",
    "- |A|<|B|. Lets take `e` from set `B\\A` and add `e` to `A`. First of all new set, lets call it `С` become no bigger than `B` because `A` is less than `B` and one edge give the `A` only +1 to size. Now the main point - we should check if there is an `e` that not create a cycle inside `A`.\n",
    "\n",
    "First of all, there is always some `e` inside `B\\A` because |B| > |A| and even if `A` and `B` completely match there is some edge from `B` that is not in `A`. Lets assume that there are no any edges from `B\\A` that can complete `A` without cycle. And lets than check how `B` looks like. \n",
    " \n",
    "If there is no any edges that can complete `A` without cycles than all edges inside `B\\A` connects vertices from `A` mean any edge from `B\\A` connects the same vertices that connects all edges inside `A`. Of course `A` can be divided into trees because not all sets can be connect with each other. But because we not found the edge without cycle mean each edge from `B` connect vertices inside subtrees of `A`. So lets image for simplify that all vertices in `A` is connected into one tree.\n",
    " \n",
    "Lets call such set of vertices from `A` `Va`. Edges from `B\\A` connects vertices from `Va` too. In sum we have |A| + n edges that connects `Va` vertices. Because `A` has no cycles it connects |A| + 1 vertices -> `|Va|` = |A| + 1. That is mean that `B` connect |A| + 1 vertices. But because |A| < |B| and |B| >= |A| + 1 there is one or more edges, that connect already connected vertices. But it is impossible because `B` is part of `I` and that is mean that in `B` cannot be any cycles.\n",
    " \n",
    "Important point - to connect 2 vertices you need 1 edge, to connect 3 vertices you need connect previous 2 vertices with one edge and connect to then the third vertex with second edge, to connect 4 vertices our need connect previous 3 vertices and the fourth vertex with third edge and etc.\n",
    "\n",
    "In final we approve that we can use greedy algorithm to create a Minimal Base Tree. Now we can think how we can use it. As we plan our matroids we can move from one tree with N vertices to tree with N+1 vertices at each step adding the edge with minimal cost. The main problem is check if the new edge will create a cycle or not. And there are 3 most common solutions of this problem that divides into 3 algorithms: `Kruskal's algorithm`; `Prim's algorithm`; `Borůvka's algorithm`. In this lecture we will speak `only` about `Kruskal` and `Prim`.\n",
    "\n",
    "But before we move further we should understand how to sort array of edges to faster add them into our constructing tree. And I hope you already remember the Heap. So, to faster sort them and take one by one we build the heap and will erase edges one by one from it."
   ],
   "cell_type": "markdown",
   "metadata": {}
  },
  {
   "source": [
    "## Prim's Algorithm\n",
    "\n",
    "Ok, as we spoke above we should in some way check if the new edge that we want to add create a cycle in already constructed tree at current step. First and simplest idea, check only the edges from the current to set of free vertices.\n",
    "\n",
    "![Prim](images/11-25/Prim.png)\n",
    "\n",
    "So, at each step when we add edge with vertex into our tree we add into the heap all edges from new vertex to vertices that is not currently inside our tree. In such way inside the heap we will care all edges that connect our tree to vertices inside the tree and free vertices outside tree. So, then in next step we take from the heap edge with minimal weight and check: \n",
    "\n",
    "- 1) if it connect 2 vertices from the tree than we just forgot about it and take the next edge. \n",
    "- 2) If it connect the vertex from the tree with free vertex we add it to our tree and modify the heap.\n",
    "\n",
    "To clearly understand if the vertex already inside the tree we can add color to them - 0 if it free and 1 if it inside the tree.\n",
    "\n",
    "And that is all. At the end, when we add |V| - 1 edges we got the minimal base tree.\n",
    "\n",
    "Now lets calculate the complexity of such algorithm.\n",
    "\n",
    "- First of all we need choose the first vertex, create the heap and add into it all edges from this vertex O(1).\n",
    "- Than at each step we add the edges into the heap ~ O(log|E|) for each edge and get some to find the next edge for adding ~ O(log|E|). In sum we add near all edges from the original graph. So, it takes about `O(|E|log|E|)` steps. Actually there is some optimizations that can help a little speed up the algorithm (with fibonachi heap) but we will omit it."
   ],
   "cell_type": "markdown",
   "metadata": {}
  },
  {
   "source": [
    "## Kruskal's algorithm\n",
    "\n",
    "The other simplest idea is just sort all edges by weight and then add them one by one till we not got the minimal tree. As before the main problem is check at each step if we got the cycle or not. And there is the two ways - first one is create a colors for vertices. Than each vertex will has some color and if they already connected with some way than they will be colored in one color. Problem - to recolor each vertices after adding new edge we need about O(|V|) steps which is too long because in such way algorithm will be with complexity `O(|V|*|E|)`.\n",
    "\n",
    "![colors](images/11-25/colors.gif)\n",
    "\n",
    "The second way - Disjoint-set data structure. This data structure is set of sets of some element. Each set contain uniq elements. What interesting - such sets can be merged with the speed O(1) and check where is some vertex lie with O(1) too (approximately, actually there will be loglogN).\n"
   ],
   "cell_type": "markdown",
   "metadata": {}
  },
  {
   "source": [
    "### Disjoint-set data structure\n",
    "\n",
    "So, the main idea is lazy calculation. For each vertex we will save the 'parent' of it vertex - the vertex that present current set, plus to this there will be the root of tree - vertex without parent. And there is two main operation with sets:\n",
    "\n",
    "![dsu1](images/11-25/dsu1.jpg)\n",
    "\n",
    "- merge two sets - to do this we will keep inside each parent vertex the size of its set. To merge them we will write to root of smaller set that its new parent is root of bigger set. Like in picture above. But if we will merge two set by two vertices that contain each set (`a` in set `A` and `b` in set `B`) we need to understand where are they are. And to do this we need to find the set where they are.\n",
    "\n",
    "- find the set by vertex - To do this we just began move from one vertex to it parent one by one till not found the root (main parent). But this is not all - after that we rewrite for all vertices that we pass that it new parent is the root of set. It will give us a lot of speed for next requests to find the root. Like in picture below, if we try to find the root from the vertex 7\n",
    "\n",
    "![dsu2](images/11-25/dsu2.png)"
   ],
   "cell_type": "markdown",
   "metadata": {}
  },
  {
   "cell_type": "code",
   "execution_count": null,
   "metadata": {},
   "outputs": [],
   "source": [
    "class element:\n",
    "    #parent = None\n",
    "    def __element__(self, parent):\n",
    "        self.parent = parent\n",
    "        self.size = 1\n",
    "\n",
    "def find_root(element):\n",
    "    if (element.parent != None):\n",
    "        element.parent = find_root(element.parent)\n",
    "        return element.parent\n",
    "    else:\n",
    "        return element\n",
    "\n",
    "def merge(element1, element2):\n",
    "    root1 = find_root (element1)\n",
    "    root2 = find_root (element2)\n",
    "    if (root1.size > root2.size):\n",
    "        root2.parent = root1\n",
    "        root1.size = root1.size + root2.size\n",
    "    else:\n",
    "        root1.parent = root2\n",
    "        root2.size = root1.size + root2.size"
   ]
  },
  {
   "source": [
    "### Main algorithm and complexity\n",
    "\n",
    "Ok, now we have the faster algorithm (O(1)) for searching if we create a cycle after adding the new edge. Now lets formulate the algorithm:\n",
    "\n",
    "![kruskal](images/11-25/kruskal.png)\n",
    "\n",
    "- Firstly sort the array of edges by the weight with complexity |E|log|E|. Create DSS(Disjoint-set data structure) for each vertex with |V|\n",
    "- Than one by one take each edge from the sorted array (from smallest to biggest). For each edge check with DSS if it create a cycle if we add it to the current tree. If yes - move to the next one. If not - add the tree, merge the DSS that will be connected by the edge and move on.\n",
    "\n",
    "When we add |V|-1 edges we will got the minimal base tree with complexity O(|E|log|E| + |E|)."
   ],
   "cell_type": "markdown",
   "metadata": {}
  }
 ]
}