{
 "metadata": {
  "language_info": {
   "codemirror_mode": {
    "name": "ipython",
    "version": 3
   },
   "file_extension": ".py",
   "mimetype": "text/x-python",
   "name": "python",
   "nbconvert_exporter": "python",
   "pygments_lexer": "ipython3",
   "version": "3.8.3-final"
  },
  "orig_nbformat": 2,
  "kernelspec": {
   "name": "python3",
   "display_name": "Python 3"
  }
 },
 "nbformat": 4,
 "nbformat_minor": 2,
 "cells": [
  {
   "source": [
    "# Search paths in Graphs\n",
    "\n",
    "## Graph\n",
    "At previous lectures we already spoke with you about binary tree. Lets remember what it is.\n",
    "\n",
    "`Binary tree` is the container of data, that contain inside special data nodes."
   ],
   "cell_type": "markdown",
   "metadata": {}
  },
  {
   "cell_type": "code",
   "execution_count": null,
   "metadata": {},
   "outputs": [],
   "source": [
    "def Node:\n",
    "    def __init__():\n",
    "        parent Node = None\n",
    "        leftChild Node = None\n",
    "        rigthchild Node = None\n",
    "        someData = []"
   ]
  },
  {
   "source": [
    "So, each node has the links to its parent and children. Abstractly it look like picture below.\n",
    " \n",
    " ![binaryTree](images/11-18/binaryTree.png)\n",
    "\n",
    " But what if we decided to increase the number of children inside each node. For example in two nodes. Or five nodes. Or for each node keep dynamic number of children. And maybe increase number of parents. And in final, mix children and parents in array of 'connected nodes'. In this case we got more general container type - Graph.\n",
    "\n",
    " `Graph` is the set of `vertexes` that we previously called as nodes, and the set of `edges` each one of whom connect two vertex. Not create a pair of 'child' and 'parent', but exactly connect them. `More formal` - Graph is the pair of sets `(V,E)`, where `V` - array of vertexes and `E` - array of edges. For example `V = {a,b,c,d,e,f,g,h,i}` and E = `{ (a,b); (b,c); (c,e); (e,h); (h,i); (c,i)}`\n",
    "\n",
    "![Graph](images/11-18/graph.gif)\n",
    "\n",
    "And what is more interesting - one of main difference of Graph from Tree - each edge can contain some data, just like a vertex. The simplest example is contain weight of vertex. In other words we can say, that the edge `(a,b)` weight is 5, or edge `(c,e)` weighs 3.\n",
    "\n",
    "![WeightGraph](images/11-18/weightGraph.gif)\n",
    "\n",
    "Now how you can understand Graph can contain a much more useful information rathe than Tree. For example with graph we can create a simple model of roads map of some country with the distance between each city.\n",
    "\n",
    "![roadsMap](images/11-18/roads.png)"
   ],
   "cell_type": "markdown",
   "metadata": {}
  },
  {
   "source": [
    "### Graph traversal (DFS)\n",
    "\n",
    "So, now we know such interesting data structure as Graph. Actually, there are a lot of different mathematical tasks was connected with graph, for example parts of combinatorics - the theory of graphs. But we will not work with it complicate mathematics and restrict ourselves with simple tasks as traversal of graph and way search.\n",
    "\n",
    "V = {1,2,3,4,5...}\n",
    "\n",
    "Ok, `Graph traversal` is the algorithm the main of whom is visited each vertex inside the graph in some special order. You can say that we can just go throw all vertexes inside vertex array V. And you will be right, but this is not very useful way. Plus to this, some time instead of arrays you can have only the link to beginning vertex and you task is move from it to each other vertexes.\n",
    "\n",
    "Let is fix structures Vertex and Edge for more convenience."
   ],
   "cell_type": "markdown",
   "metadata": {}
  },
  {
   "cell_type": "code",
   "execution_count": null,
   "metadata": {},
   "outputs": [],
   "source": [
    "def Vertex:\n",
    "    def __init__():\n",
    "        edges = []\n",
    "        data = []"
   ]
  },
  {
   "cell_type": "code",
   "execution_count": null,
   "metadata": {},
   "outputs": [],
   "source": [
    "def Edge:\n",
    "    def __init__():\n",
    "        firstVertex = None\n",
    "        secondVertex = None\n",
    "        data = []"
   ]
  },
  {
   "source": [
    "And now lets try to solve one task - we need to find the way (any way)) from one vertex to other. And to be honest I don't know the algorithm with vertexes array that can solve such task. So, we need to do some thing with this, because we have all data that we need.\n",
    "\n",
    "First of all, we have two vertex. The first thought that you may be got is start from one vertex and move on till we not meet the vertex that we need. And this is correct idea actually. But we should create some order to not visit one vertex many times, for the time economy. To do this we can just save a special marker (like number '0' or '1') that show us if we already was inside the vertex or not. Such algorithm of traversal called `DFS` (Depth-first search).\n",
    "\n",
    "So, to simplify at each step of algorithm we go to some vertex `v`, that connected with previous one `s` and not visited yet, work with it (visit other vertexes, that connect to `v`) and go back to `s` to move to the next one not visited vertex. In this way we just try to journey through edges till we no found the way to other vertex.\n",
    "\n",
    "More formally:\n",
    "\n",
    "- We come inside some vertex. Change the mark from 0 to 1.\n",
    "- Than began read the list of edges and move to the next vertex if we did not go to it before.\n",
    "- When the array of edges was ended, end the function call inside this vertex and move back to previous one.\n",
    "\n",
    "![DFS](images/11-18/DFS.png)"
   ],
   "cell_type": "markdown",
   "metadata": {}
  },
  {
   "source": [
    "### Graph traversal (BFS Breadth-First Search)\n",
    "\n",
    "Now lets made our tasks a little more complicated - we need to find the shortest way between two vertexes `a` and `b`. And let is assume that all edges has no weight (or weight equal to 1). So, now we need in some way check not only one, but all ways to our vertex and find out the shortest one among (us) them. With DFS it quite difficult task you actually need to move through all possible ways and compare them with each other. And how you can remember such algorithms usually needs about O(exp(N)) steps. LEts try to create some more optimized algorithm.\n",
    "\n",
    "And at this step lets try to remember about Dynamic programming.\n",
    "\n",
    "![Graph](images/11-18/graph.gif)\n",
    "\n",
    "For example we will try to find the shortest way between vertexes `a` and `h`. We begin our way from vertex `a`. Now remember the dynamic program principe - we should divide our task into some subtasks and solve them, and then solve our task with the results of subtasks. Ok, we need some subtasks, and what is the simplest variant of such subtasks? Exactly - we should find the shortest ways to all neighborhoods of our vertex `h`. And shortest ways to to neighborhoods of them and etc. till we not meet the `a`. But we will do it in opposite way, from bottom to up, mean from `a`. So: \n",
    "\n",
    "- The shortest ways to `b` and `d` is 1 because there are neighborhoods of `a`.\n",
    "- The shortest ways to `g`, `f`, `c` is 2, because there are neighborhoods of `b`, and we cannot reach them faster then the shortest way to some neighborhood + 1. If we can reach out vertex `v` with shorter way `s`, than we can reach our neighborhood with `s` + 1 which is shorter than shortest way what is imposible.\n",
    "- The shortest ways to `h`,`e`,`i` is 3, because there are neighborhoods of `g` and `c`.\n",
    "\n",
    "So, we found answer, the shortest way is `a`->`b`->`g`->`h` with length 3. Now lets try to formulate the algorithm.\n",
    "\n",
    "![bfs](images/11-18/bfs.jpg)\n",
    "\n",
    "For more simple understanding lets create the concept of `waves`. Each wave is the set of vertexes that are neighborhoods to the vertexes of previous wave. Like the rounds in water, if it has points on surface.\n",
    "\n",
    "![bfs](images/11-18/bfsWaves.png)\n",
    "\n",
    "- In first step we choose the vertex with witch we start bypassing. And in the same time this is the zero wave.\n",
    "- Next, we visit neighborhoods vertexes that we are not visit yet for each vertex in previous waves. \n",
    "- Calculate for them the distance as `d(current) = d(previous) + 1`. Or, in more simple, just count the steps number and save for each current vertex the steps number as distance (For first vertex 0, for neighborhoods of first vertex 1 and etc.)\n",
    "- Move to the step 2"
   ],
   "cell_type": "markdown",
   "metadata": {}
  },
  {
   "source": [
    "## Deikstra (Dijkstra)\n",
    "\n",
    "Ok, BFS can help us to find the way in graph. But the Graph was without weighted edges. In the same time the real roads in the city has the 'weights' - the length. And we need find the shortest way considering it. What to do?\n",
    "\n",
    "Lets look at one edge with weight closer. For example road. What the difference between the road with the length 1km and length 13km? Yes, the road with 13km is actually 13 roads with the length 1km, and they are like pieces sum in big road. In other words we can divide our big road into 13 small roads each one of whom has the length 1km. In the same way we can divide our edge into some small edges with the weight 1. And to not break the graph we should create between small edges fictional vertexes.\n",
    "\n",
    "![virtualVertexes](images/11-18/virtual.bmp)\n",
    "\n",
    "Ok, now we have a new one Graph G1 with the edges length 1 and we can use BFS to find the shortest way. But as we spoke above BFS work as waves spreading from start vertex. In the same way it will work here, but in some waves we will work only with virtual vertexes. And how you can notice each virtual vertex connected only to 2 neighborhood vertexes. And this is mean that when we come inside virtual vertex we will move only in one direction. Like inside long road when we road kilometer by kilometer past the distance signs (virtual vertices) each kilometer.\n",
    "\n",
    "![dijkstraWaves](images/11-18/dijkstra.bmp)\n",
    "\n",
    "In sum we do some useless work with virtual vertices. But why we need check each wave, lets just remember at what wave we meet some real vertex to work with it. So, for example we have vertices `S`,`A`,`B`. Instead of count 100 waves from `S` to `A` lets just remember that at wave `100` we need visit vertex `A`, and at wave `200` we need visit vertex `B`. Ok, lets start move. "
   ],
   "cell_type": "markdown",
   "metadata": {}
  },
  {
   "cell_type": "code",
   "execution_count": 1,
   "metadata": {},
   "outputs": [
    {
     "output_type": "stream",
     "name": "stdout",
     "text": [
      "wave 0\nwave 1\nwave 2\nwave 3\nwave 4\nwave 5\nwave 6\nwave 7\nwave 8\nwave 9\nwave 10\nwave 11\nwave 12\nwave 13\nwave 14\nwave 15\nwave 16\nwave 17\nwave 18\nwave 19\nwave 20\nwave 21\nwave 22\nwave 23\nwave 24\nwave 25\nwave 26\nwave 27\nwave 28\nwave 29\nwave 30\nwave 31\nwave 32\nwave 33\nwave 34\nwave 35\nwave 36\nwave 37\nwave 38\nwave 39\nwave 40\nwave 41\nwave 42\nwave 43\nwave 44\nwave 45\nwave 46\nwave 47\nwave 48\nwave 49\nwave 50\nwave 51\nwave 52\nwave 53\nwave 54\nwave 55\nwave 56\nwave 57\nwave 58\nwave 59\nwave 60\nwave 61\nwave 62\nwave 63\nwave 64\nwave 65\nwave 66\nwave 67\nwave 68\nwave 69\nwave 70\nwave 71\nwave 72\nwave 73\nwave 74\nwave 75\nwave 76\nwave 77\nwave 78\nwave 79\nwave 80\nwave 81\nwave 82\nwave 83\nwave 84\nwave 85\nwave 86\nwave 87\nwave 88\nwave 89\nwave 90\nwave 91\nwave 92\nwave 93\nwave 94\nwave 95\nwave 96\nwave 97\nwave 98\nwave 99\nwave 100\n------------------------------\nvisit vertex A\n------------------------------\nwave 101\nwave 102\nwave 103\nwave 104\nwave 105\nwave 106\nwave 107\nwave 108\nwave 109\nwave 110\nwave 111\nwave 112\nwave 113\nwave 114\nwave 115\nwave 116\nwave 117\nwave 118\nwave 119\nwave 120\nwave 121\nwave 122\nwave 123\nwave 124\nwave 125\nwave 126\nwave 127\nwave 128\nwave 129\nwave 130\nwave 131\nwave 132\nwave 133\nwave 134\nwave 135\nwave 136\nwave 137\nwave 138\nwave 139\nwave 140\nwave 141\nwave 142\nwave 143\nwave 144\nwave 145\nwave 146\nwave 147\nwave 148\nwave 149\nwave 150\n------------------------------\nvisit vertex B\n------------------------------\nwave 151\nwave 152\nwave 153\nwave 154\nwave 155\nwave 156\nwave 157\nwave 158\nwave 159\nwave 160\nwave 161\nwave 162\nwave 163\nwave 164\nwave 165\nwave 166\nwave 167\nwave 168\nwave 169\nwave 170\nwave 171\nwave 172\nwave 173\nwave 174\nwave 175\nwave 176\nwave 177\nwave 178\nwave 179\nwave 180\nwave 181\nwave 182\nwave 183\nwave 184\nwave 185\nwave 186\nwave 187\nwave 188\nwave 189\nwave 190\nwave 191\nwave 192\nwave 193\nwave 194\nwave 195\nwave 196\nwave 197\nwave 198\nwave 199\nwave 200\n------------------------------\nvisit vertex B\n------------------------------\n"
     ]
    }
   ],
   "source": [
    "to_visit = [(100,'A'), (200,'B')]\n",
    "i = 0\n",
    "\n",
    "def add_neibr(vertex):\n",
    "    if (vertex == 'A'): return [(150,'B')]\n",
    "    else: return []\n",
    "\n",
    "while (len (to_visit) > 0):\n",
    "    size = len (to_visit)\n",
    "    j = 0\n",
    "    print (f\"wave {i}\")\n",
    "    while j < size:\n",
    "        if (to_visit[j][0] == i):\n",
    "            print (\"------------------------------\")\n",
    "            print (f\"visit vertex {to_visit[j][1]}\")\n",
    "            print (\"------------------------------\")\n",
    "            elem = to_visit.pop(j)\n",
    "            size-=1\n",
    "            to_visit = to_visit + add_neibr(elem[1])\n",
    "        else:\n",
    "            j+=1\n",
    "    i+=1"
   ]
  },
  {
   "source": [
    "So, how you can see, here we have some problems. First of all we still move through all waves without any sense. And the second one, we put our vertex into `to_visit` array multiple times and visit it multiple times too (vertex `B`). With second one we can fight just by search if the vertex already inside array for visiting, and if yes check if we can visit it early (by compare numbers of waves that already stored and the new one).\n",
    "\n",
    "But how we should work to not check each wave array of vertices. So, lets look more carefully to vertices array - it is look like `[(a,15);(b,10);(h,25)]` and firstly we visit the vertex with the smallest number because we move throught all waves from 0 to maximum. In other words we can not visit firstly vertex with the wave number 15 if we have vertex with number 10, because the wave 10 will come early than 15. So, each time we actually choose the vertex with smallest number. And this is mean that we not need to move through all waves. There is enoughs just take the vertex with (again) smallest number. And this is mean we only need to sort our array and take from it the smallest number.\n",
    "\n",
    "For such purpose there is already exist special structure and we know it - the Heap. At each step it can give us the smallest number with logN complexity and add nex vertexes with logN complexity too. That is mean we can take from it next vertex and move to it in one step (with complexity logN to choose needed one), not waiting till we got needed wave. And this algorithm is called `Dijkstra`.\n",
    "\n",
    "Now, lets formulate it:\n",
    "\n",
    "![dijkstra](images/11-18/dijkstra.png)\n",
    "\n",
    "- At first step we get the first vertex, create a heap and fill it with neighborhoods of first vertex. To sort them we put each vertex with the distance to it (tuple pair).\n",
    "- Then in each step we take the smallest (by distance) vertex from the heap and investigate it neighborhoods. If we visit one of them then move to the next. If not we check if it already inside the heap. Yes - we check if our new 'wave number'\\distance is less than memorized in heap and choose the less one. No - just add the vertex to the heap.\n",
    "- Put in some memory the distance to the current vertex - it is already the shortest way to it.\n",
    "- Move to the next vertex in heap.\n",
    "\n",
    "That is all for shortest path algorithms."
   ],
   "cell_type": "markdown",
   "metadata": {}
  }
 ]
}