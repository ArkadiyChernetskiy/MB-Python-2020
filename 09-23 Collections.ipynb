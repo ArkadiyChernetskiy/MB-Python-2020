{
  "nbformat": 4,
  "nbformat_minor": 0,
  "metadata": {
    "kernelspec": {
      "display_name": "Python 3",
      "language": "python",
      "name": "python3"
    },
    "language_info": {
      "codemirror_mode": {
        "name": "ipython",
        "version": 3
      },
      "file_extension": ".py",
      "mimetype": "text/x-python",
      "name": "python",
      "nbconvert_exporter": "python",
      "pygments_lexer": "ipython3",
      "version": "3.4.3"
    },
    "colab": {
      "name": "Lesson_1.ipynb",
      "provenance": [],
      "collapsed_sections": [
        "lSvu660EtkAu",
        "Cdq5mbBctkEU"
      ]
    }
  },
  "cells": [
    {
      "cell_type": "markdown",
      "metadata": {
        "id": "lSvu660EtkAu",
        "colab_type": "text"
      },
      "source": [
        "### Collections\n",
        "\n",
        "**Collections** are collections of objects of the same (or not the same) type. 100 cats, 10 dogs, [watermelon, pumpkin, apple] all are examples of collection.\n",
        "\n",
        "There are several datatypes in Python that help you store collections in a suitable way. Let's dive in"
      ]
    },
    {
      "cell_type": "markdown",
      "metadata": {
        "id": "2bPovq1XtkAv",
        "colab_type": "text"
      },
      "source": [
        "### Lists\n",
        "\n",
        "List is a sequence of values. A list could contain elements of various types."
      ]
    },
    {
      "cell_type": "code",
      "metadata": {
        "id": "960admKQtkAv",
        "colab_type": "code",
        "colab": {}
      },
      "source": [
        "list1 = ['apple', 5, True]"
      ],
      "execution_count": null,
      "outputs": []
    },
    {
      "cell_type": "markdown",
      "metadata": {
        "id": "F71gTMc6tkA1",
        "colab_type": "text"
      },
      "source": [
        "You can even put a list inside a list, then it will be called nested list"
      ]
    },
    {
      "cell_type": "code",
      "metadata": {
        "id": "nb1CEoOYtkA1",
        "colab_type": "code",
        "colab": {}
      },
      "source": [
        "list2 = ['apple', ['tomato', 'fish'], 5]"
      ],
      "execution_count": null,
      "outputs": []
    },
    {
      "cell_type": "markdown",
      "metadata": {
        "id": "ZGTkWjVbtkA4",
        "colab_type": "text"
      },
      "source": [
        "You also can create an empty list, without any elements"
      ]
    },
    {
      "cell_type": "code",
      "metadata": {
        "id": "pKptfjEetkA4",
        "colab_type": "code",
        "colab": {}
      },
      "source": [
        "empty_list = []"
      ],
      "execution_count": null,
      "outputs": []
    },
    {
      "cell_type": "markdown",
      "metadata": {
        "id": "F1dyjgVctkA7",
        "colab_type": "text"
      },
      "source": [
        "#### Indexing"
      ]
    },
    {
      "cell_type": "markdown",
      "metadata": {
        "id": "O6X4xxR9tkA8",
        "colab_type": "text"
      },
      "source": [
        "Lists support indexing starts at 0 (as any indexed thing in Python). However, it is possible to use negative indices\n",
        "\n",
        "![Пример индексации](https://cdn-images-1.medium.com/max/1600/1*ew02kFoUbAqhe2ozFnDa8g.png)\n",
        "\n"
      ]
    },
    {
      "cell_type": "code",
      "metadata": {
        "id": "jZX8UY0-tkA8",
        "colab_type": "code",
        "colab": {}
      },
      "source": [
        "my_list2[1]"
      ],
      "execution_count": null,
      "outputs": []
    },
    {
      "cell_type": "code",
      "metadata": {
        "id": "VXTPWn-FtkA_",
        "colab_type": "code",
        "colab": {}
      },
      "source": [
        "my_list2[-1]"
      ],
      "execution_count": null,
      "outputs": []
    },
    {
      "cell_type": "markdown",
      "metadata": {
        "id": "FivSp16gtkBC",
        "colab_type": "text"
      },
      "source": [
        "Small hint about indexing \n",
        "\n",
        "![Индексация строк](https://cdn-images-1.medium.com/max/1555/1*HqdR129XR8-1ojtTYLou7g.png)"
      ]
    },
    {
      "cell_type": "markdown",
      "metadata": {
        "id": "Hm5znGnStkBD",
        "colab_type": "text"
      },
      "source": [
        "#### Slices"
      ]
    },
    {
      "cell_type": "markdown",
      "metadata": {
        "id": "b9ueg75ZtkBE",
        "colab_type": "text"
      },
      "source": [
        "In the same way as for strings, you can take list slices"
      ]
    },
    {
      "cell_type": "code",
      "metadata": {
        "id": "PO0CLAAvtkBE",
        "colab_type": "code",
        "colab": {}
      },
      "source": [
        "my_list2[0:-1]"
      ],
      "execution_count": null,
      "outputs": []
    },
    {
      "cell_type": "code",
      "metadata": {
        "id": "hu-PYK2ntkBH",
        "colab_type": "code",
        "colab": {}
      },
      "source": [
        "my_list2[-1:]"
      ],
      "execution_count": null,
      "outputs": []
    },
    {
      "cell_type": "code",
      "metadata": {
        "id": "s3LHigd3tkBJ",
        "colab_type": "code",
        "colab": {}
      },
      "source": [
        "my_list2"
      ],
      "execution_count": null,
      "outputs": []
    },
    {
      "cell_type": "markdown",
      "metadata": {
        "id": "FG1FKdh5tkBL",
        "colab_type": "text"
      },
      "source": [
        "You can specify the step that shows spacing between values"
      ]
    },
    {
      "cell_type": "code",
      "metadata": {
        "id": "clOEc_BUtkBM",
        "colab_type": "code",
        "colab": {}
      },
      "source": [
        "my_list2[1::1]"
      ],
      "execution_count": null,
      "outputs": []
    },
    {
      "cell_type": "code",
      "metadata": {
        "id": "SmpxsYoDtkBO",
        "colab_type": "code",
        "colab": {}
      },
      "source": [
        "my_list2[0::2]"
      ],
      "execution_count": null,
      "outputs": []
    },
    {
      "cell_type": "code",
      "metadata": {
        "id": "X5AIXJw_tkBR",
        "colab_type": "code",
        "colab": {}
      },
      "source": [
        "my_list2[::-1]"
      ],
      "execution_count": null,
      "outputs": []
    },
    {
      "cell_type": "markdown",
      "metadata": {
        "id": "gKOp_9TwtkBU",
        "colab_type": "text"
      },
      "source": [
        "#### Loop through the elements of the list (iteration)"
      ]
    },
    {
      "cell_type": "markdown",
      "metadata": {
        "id": "FzCVBRzWtkBU",
        "colab_type": "text"
      },
      "source": [
        "You can walk through the list simply by indexing each of its elements in turn. To implement this a **len** function is useful. It returns the length of a list."
      ]
    },
    {
      "cell_type": "code",
      "metadata": {
        "id": "oBtl0oWatkBV",
        "colab_type": "code",
        "colab": {}
      },
      "source": [
        "my_list3 = [1, 7, -5, 0, 32]"
      ],
      "execution_count": null,
      "outputs": []
    },
    {
      "cell_type": "code",
      "metadata": {
        "id": "dwVgU0-RtkBY",
        "colab_type": "code",
        "colab": {}
      },
      "source": [
        "for i in range(len(my_list3)):\n",
        "    print (my_list3[i])"
      ],
      "execution_count": null,
      "outputs": []
    },
    {
      "cell_type": "markdown",
      "metadata": {
        "id": "0FKD-11ztkBa",
        "colab_type": "text"
      },
      "source": [
        "Generally, to iterate over the elements of collections in Python you can use the **for** loop directly!"
      ]
    },
    {
      "cell_type": "code",
      "metadata": {
        "id": "moLECtNCtkBb",
        "colab_type": "code",
        "colab": {}
      },
      "source": [
        "for elem in my_list3:\n",
        "    print(elem)"
      ],
      "execution_count": null,
      "outputs": []
    },
    {
      "cell_type": "markdown",
      "metadata": {
        "id": "KbhDuNhutkBd",
        "colab_type": "text"
      },
      "source": [
        "**for** can be applied to strings as well. In this case, you will iterate over the characters of the string"
      ]
    },
    {
      "cell_type": "code",
      "metadata": {
        "id": "1K0AAiVKtkBe",
        "colab_type": "code",
        "colab": {}
      },
      "source": [
        "s = \"Hello, world\"\n",
        "for c in s:\n",
        "    print(c)"
      ],
      "execution_count": null,
      "outputs": []
    },
    {
      "cell_type": "markdown",
      "metadata": {
        "id": "bs9xqXfktkBg",
        "colab_type": "text"
      },
      "source": [
        "**List operations**"
      ]
    },
    {
      "cell_type": "markdown",
      "metadata": {
        "id": "8S5xJA2OtkBh",
        "colab_type": "text"
      },
      "source": [
        "Lists can be added (**concatenated**, actually)"
      ]
    },
    {
      "cell_type": "code",
      "metadata": {
        "id": "6kvdasxBtkBh",
        "colab_type": "code",
        "colab": {}
      },
      "source": [
        "a = [2,3,4]\n",
        "b = [-5, 10]\n",
        "a + b"
      ],
      "execution_count": null,
      "outputs": []
    },
    {
      "cell_type": "code",
      "metadata": {
        "id": "srjGCg9_tkBk",
        "colab_type": "code",
        "colab": {}
      },
      "source": [
        "a - b # And what did you expect to see?)"
      ],
      "execution_count": null,
      "outputs": []
    },
    {
      "cell_type": "code",
      "metadata": {
        "id": "MaLOEDULtkBn",
        "colab_type": "code",
        "colab": {}
      },
      "source": [
        "a * b # same thing"
      ],
      "execution_count": null,
      "outputs": []
    },
    {
      "cell_type": "markdown",
      "metadata": {
        "id": "GKDHUicntkBp",
        "colab_type": "text"
      },
      "source": [
        "The list can be repeated several times by multiplying it by a number, however, this is not recommended for use except in the most obvious cases (we will analyze why later)"
      ]
    },
    {
      "cell_type": "code",
      "metadata": {
        "id": "A2JdRsOMtkBq",
        "colab_type": "code",
        "colab": {}
      },
      "source": [
        "[0] * 5"
      ],
      "execution_count": null,
      "outputs": []
    },
    {
      "cell_type": "markdown",
      "metadata": {
        "id": "5So9EBYCtkBt",
        "colab_type": "text"
      },
      "source": [
        "You can check if an item is in the list using the **in** keyword"
      ]
    },
    {
      "cell_type": "code",
      "metadata": {
        "id": "WYzx6UQXtkBt",
        "colab_type": "code",
        "colab": {}
      },
      "source": [
        "a = [1,3,10]\n",
        "if 5 in a:\n",
        "    print (\"5 is in a\")\n",
        "else:\n",
        "    print (\"5 is not in a\")"
      ],
      "execution_count": null,
      "outputs": []
    },
    {
      "cell_type": "markdown",
      "metadata": {
        "id": "xcEdh5kHtkBz",
        "colab_type": "text"
      },
      "source": [
        "Iterating through the elements of the container has a peculiarity - a variable that is sequentially assigned with values of items from the container can be used later.\n",
        "This is useful when, for example, we are looking for the first element that satisfies a given property."
      ]
    },
    {
      "cell_type": "code",
      "metadata": {
        "id": "1CEPtNnutkBz",
        "colab_type": "code",
        "colab": {}
      },
      "source": [
        "a = [1, 3, 4, 100, 34]\n",
        "for i in a:\n",
        "    if i % 2 == 0:\n",
        "        break\n",
        "print(i)"
      ],
      "execution_count": null,
      "outputs": []
    },
    {
      "cell_type": "markdown",
      "metadata": {
        "id": "frDD1YyjtkB2",
        "colab_type": "text"
      },
      "source": [
        "But if no item was found, then `i` will take the value of the last item in the list."
      ]
    },
    {
      "cell_type": "code",
      "metadata": {
        "id": "CLCLR0HbtkB3",
        "colab_type": "code",
        "colab": {}
      },
      "source": [
        "a = [1, 3, 7, 11]\n",
        "for i in a:\n",
        "    if i % 2 == 0:\n",
        "        break\n",
        "i"
      ],
      "execution_count": null,
      "outputs": []
    },
    {
      "cell_type": "markdown",
      "metadata": {
        "id": "GNl92BkmtkB5",
        "colab_type": "text"
      },
      "source": [
        "Another problem is that if `i` was not previously declared, and we decided to go through an empty list, then `i` will remain undeclared and we will receive an error"
      ]
    },
    {
      "cell_type": "code",
      "metadata": {
        "id": "Puqnd0Z5tkB6",
        "colab_type": "code",
        "colab": {}
      },
      "source": [
        "del i # remove variable i\n",
        "a = []\n",
        "for i in []:\n",
        "    if i % 2 == 0:\n",
        "        break\n",
        "i"
      ],
      "execution_count": null,
      "outputs": []
    },
    {
      "cell_type": "markdown",
      "metadata": {
        "id": "aalccoAqtkB9",
        "colab_type": "text"
      },
      "source": [
        "Both problems could be solved by using **else** in a **for** loop. \n",
        "\n",
        "Note that **else** goes on the same level as **for** and refers to it!\n",
        "\n",
        "**else** in this case is executed only if the exit from loop was not performed using break (i.e. we went through all the values ​​in the container)"
      ]
    },
    {
      "cell_type": "code",
      "metadata": {
        "id": "9gEWD9xFtkB-",
        "colab_type": "code",
        "colab": {}
      },
      "source": [
        "a = [1, 3, 7, 11]\n",
        "for i in a:\n",
        "    if i % 2 == 0:\n",
        "        break\n",
        "else:\n",
        "    i = None \n",
        "    print(\"No even elements\")\n",
        "print (i)"
      ],
      "execution_count": null,
      "outputs": []
    },
    {
      "cell_type": "code",
      "metadata": {
        "id": "yGJ9AzhxtkCA",
        "colab_type": "code",
        "colab": {}
      },
      "source": [
        "a = []\n",
        "for i in a:\n",
        "    if i % 2 == 0:\n",
        "        break\n",
        "else:\n",
        "    i = None\n",
        "    print(\"No even elements\")\n",
        "print (i)"
      ],
      "execution_count": null,
      "outputs": []
    },
    {
      "cell_type": "markdown",
      "metadata": {
        "id": "4GZX0sh0tkCE",
        "colab_type": "text"
      },
      "source": [
        "If the required element is still there, then everything works well!)"
      ]
    },
    {
      "cell_type": "code",
      "metadata": {
        "id": "moJ2DvkCtkCE",
        "colab_type": "code",
        "colab": {}
      },
      "source": [
        "a = [1, 3, 7, 12]\n",
        "for i in a:\n",
        "    if i % 2 == 0:\n",
        "        break\n",
        "else:\n",
        "    i = None\n",
        "    print(\"No even elements\")\n",
        "print (i)"
      ],
      "execution_count": null,
      "outputs": []
    },
    {
      "cell_type": "markdown",
      "metadata": {
        "id": "oMwsHJxatkCH",
        "colab_type": "text"
      },
      "source": [
        "\n",
        "#### Checking a list for emptiness\n",
        "\n",
        "Works not only for a list, but for all types of collections/containers"
      ]
    },
    {
      "cell_type": "code",
      "metadata": {
        "id": "554hQjSwtkCH",
        "colab_type": "code",
        "colab": {}
      },
      "source": [
        "if not a: # if a is empty\n",
        "    print(\"HI\")\n",
        "\n",
        "b = [1]\n",
        "if  b: # if b is not empty\n",
        "    print(\"HI\")"
      ],
      "execution_count": null,
      "outputs": []
    },
    {
      "cell_type": "markdown",
      "metadata": {
        "id": "TkUCGNiEtkCJ",
        "colab_type": "text"
      },
      "source": [
        "#### Mutability of lists\n",
        "\n",
        "In the case of strings, if you try to change a character, an error will pop up"
      ]
    },
    {
      "cell_type": "code",
      "metadata": {
        "id": "bwqnkKcWtkCK",
        "colab_type": "code",
        "colab": {}
      },
      "source": [
        "a = \"Hello, world!\"\n",
        "a[-1] = \"?\""
      ],
      "execution_count": null,
      "outputs": []
    },
    {
      "cell_type": "markdown",
      "metadata": {
        "id": "UhB_tTMktkCM",
        "colab_type": "text"
      },
      "source": [
        "So you have to do something like this:"
      ]
    },
    {
      "cell_type": "code",
      "metadata": {
        "id": "v6Q2OHrNtkCN",
        "colab_type": "code",
        "colab": {}
      },
      "source": [
        "a = \"Hello, world!\"\n",
        "b = a[:-1] + \"?\"\n",
        "print(a)\n",
        "print(b)"
      ],
      "execution_count": null,
      "outputs": []
    },
    {
      "cell_type": "markdown",
      "metadata": {
        "id": "R0y56e3CtkCP",
        "colab_type": "text"
      },
      "source": [
        "It's much easier with lists. They are **mutable** objects"
      ]
    },
    {
      "cell_type": "code",
      "metadata": {
        "id": "dlC75FQstkCP",
        "colab_type": "code",
        "colab": {}
      },
      "source": [
        "a = [1, -3, 10, 6]"
      ],
      "execution_count": null,
      "outputs": []
    },
    {
      "cell_type": "code",
      "metadata": {
        "id": "VykAXf_6tkCS",
        "colab_type": "code",
        "colab": {}
      },
      "source": [
        "a[-1] = 5\n",
        "a"
      ],
      "execution_count": null,
      "outputs": []
    },
    {
      "cell_type": "code",
      "metadata": {
        "id": "uLnd_JPEtkCU",
        "colab_type": "code",
        "colab": {}
      },
      "source": [
        "a[0:2] = [0,1]"
      ],
      "execution_count": null,
      "outputs": []
    },
    {
      "cell_type": "code",
      "metadata": {
        "id": "bBEBwcsYtkCW",
        "colab_type": "code",
        "colab": {}
      },
      "source": [
        "a"
      ],
      "execution_count": null,
      "outputs": []
    },
    {
      "cell_type": "markdown",
      "metadata": {
        "id": "Ajv_Ko9QtkCZ",
        "colab_type": "text"
      },
      "source": [
        "### Changeable objects. Tasks."
      ]
    },
    {
      "cell_type": "code",
      "metadata": {
        "id": "COAClNoRtkCZ",
        "colab_type": "code",
        "colab": {}
      },
      "source": [
        "a = [10, 5, 4]\n",
        "b = a\n",
        "a[-2] = 7"
      ],
      "execution_count": null,
      "outputs": []
    },
    {
      "cell_type": "markdown",
      "metadata": {
        "id": "9ssKKv5ftkCc",
        "colab_type": "text"
      },
      "source": [
        "What's in b? "
      ]
    },
    {
      "cell_type": "code",
      "metadata": {
        "scrolled": true,
        "id": "CD9WQwYvtkCc",
        "colab_type": "code",
        "colab": {}
      },
      "source": [
        "b"
      ],
      "execution_count": null,
      "outputs": []
    },
    {
      "cell_type": "markdown",
      "metadata": {
        "id": "RyDjH3pTtkCg",
        "colab_type": "text"
      },
      "source": [
        "What's the secret?\n",
        "If we recall the analogy about a cat and a box, then everything becomes clear\n",
        "![cat](http://vokrugkota.ru/media/tumblr_mocf77rFWi1qb8jcho6_1280.jpg)"
      ]
    },
    {
      "cell_type": "markdown",
      "metadata": {
        "id": "YfZV6SHWtkCg",
        "colab_type": "text"
      },
      "source": [
        "In your computer memory, you have a great number of boxes. In one of them you put a cat (in this case, a list).\n",
        "But at the same time, you decided to call this box both **a** and **b**. Python didn't create a new cat in a new box. But now this box has two names. Therefore, teasing the cat in the **a** variable, you risk getting scratched hands in the **b** variable (meow)"
      ]
    },
    {
      "cell_type": "code",
      "metadata": {
        "id": "-XxQ9LxttkCh",
        "colab_type": "code",
        "colab": {}
      },
      "source": [
        "colors = ['red', 'blue', 'green']\n",
        "b = colors"
      ],
      "execution_count": null,
      "outputs": []
    },
    {
      "cell_type": "markdown",
      "metadata": {
        "id": "kMU7dTnhtkCi",
        "colab_type": "text"
      },
      "source": [
        "![colors](https://developers.google.com/edu/python/images/list2.png)"
      ]
    },
    {
      "cell_type": "markdown",
      "metadata": {
        "id": "xWXpylAwtkCj",
        "colab_type": "text"
      },
      "source": [
        "To prevent this behavior in Python, you'll have to make a copy of the list!"
      ]
    },
    {
      "cell_type": "code",
      "metadata": {
        "id": "Xr57yOgztkCj",
        "colab_type": "code",
        "colab": {}
      },
      "source": [
        "a = [10, 5, 4]\n",
        "b = a[:] # take a slice of the entire list - thus copying it \n",
        "a[-2] = 7\n",
        "print (\"a\", a)\n",
        "print (\"b\", b)"
      ],
      "execution_count": null,
      "outputs": []
    },
    {
      "cell_type": "markdown",
      "metadata": {
        "id": "4imzb_VitkCm",
        "colab_type": "text"
      },
      "source": [
        "It is also possible to use the built-in Python function - **list**"
      ]
    },
    {
      "cell_type": "code",
      "metadata": {
        "id": "hvLlLQe4tkCn",
        "colab_type": "code",
        "colab": {}
      },
      "source": [
        "a = [10, 5, 4]\n",
        "b = list(a) # copying a list\n",
        "a[-2] = 7\n",
        "print (\"a\", a)\n",
        "print (\"b\", b)"
      ],
      "execution_count": null,
      "outputs": []
    },
    {
      "cell_type": "code",
      "metadata": {
        "id": "nuuLpPjRtkCo",
        "colab_type": "code",
        "colab": {}
      },
      "source": [
        "list(\"ATGCGAGCCG\")"
      ],
      "execution_count": null,
      "outputs": []
    },
    {
      "cell_type": "markdown",
      "metadata": {
        "id": "nEVgDRvAtkCr",
        "colab_type": "text"
      },
      "source": [
        "You can also use Python's mutable objects method - **copy**"
      ]
    },
    {
      "cell_type": "code",
      "metadata": {
        "scrolled": true,
        "id": "X-DdZH-jtkCr",
        "colab_type": "code",
        "colab": {}
      },
      "source": [
        "a = [10, 5, 4]\n",
        "b = a.copy()\n",
        "a[-2] = 7\n",
        "print (\"a\", a)\n",
        "print (\"b\", b)"
      ],
      "execution_count": null,
      "outputs": []
    },
    {
      "cell_type": "markdown",
      "metadata": {
        "id": "wSPtz0wWtkCt",
        "colab_type": "text"
      },
      "source": [
        "After the usual copying procedure, changes in lists will be propagated if we do not take mutable objects nested in them (for example, lists). However, if you change the nested list, then the changes will affect both lists."
      ]
    },
    {
      "cell_type": "code",
      "metadata": {
        "id": "WaWH3RpqtkCu",
        "colab_type": "code",
        "colab": {}
      },
      "source": [
        "lst1 = ['a','b',['ab','ba']]\n",
        "lst2 = lst1.copy()\n",
        "a[-1][0] = 5\n",
        "lst2[2][1] = \"d\"\n",
        "lst2[0] = \"c\";\n",
        "print(lst1)\n",
        "print(lst2)"
      ],
      "execution_count": null,
      "outputs": []
    },
    {
      "cell_type": "markdown",
      "metadata": {
        "id": "VQBRD08jtkCw",
        "colab_type": "text"
      },
      "source": [
        "![shallow_copy](https://www.python-course.eu/images/deep_copy_4)"
      ]
    },
    {
      "cell_type": "markdown",
      "metadata": {
        "id": "u9Lca_gitkCw",
        "colab_type": "text"
      },
      "source": [
        "For nested lists and simply mutable objects in mutable objects use `deepcopy`"
      ]
    },
    {
      "cell_type": "code",
      "metadata": {
        "id": "vvCu6Bu8tkCx",
        "colab_type": "code",
        "colab": {}
      },
      "source": [
        "from copy import deepcopy\n",
        "\n",
        "lst1 = ['a','b',['ab','ba']]\n",
        "\n",
        "lst2 = deepcopy(lst1)\n",
        "\n",
        "lst2[2][1] = \"d\"\n",
        "lst2[0] = \"c\";\n",
        "\n",
        "print(lst1)\n",
        "print(lst2)\n"
      ],
      "execution_count": null,
      "outputs": []
    },
    {
      "cell_type": "markdown",
      "metadata": {
        "id": "gu1jNCCFtkC1",
        "colab_type": "text"
      },
      "source": [
        "![deep_copy](https://www.python-course.eu/images/deep_copy_5)"
      ]
    },
    {
      "cell_type": "markdown",
      "metadata": {
        "id": "uXSbsUPCtkC1",
        "colab_type": "text"
      },
      "source": [
        "### List methods\n",
        "\n",
        "The list, like many other built-in types in Python, has a set of functions designed to work with it and called using a construction like **lst.method_name**"
      ]
    },
    {
      "cell_type": "markdown",
      "metadata": {
        "id": "MqhbZpS9tkC2",
        "colab_type": "text"
      },
      "source": [
        "**append** - Appending to the list\n",
        "\n",
        "For example, we can create a list of all odd numbers up to 20"
      ]
    },
    {
      "cell_type": "code",
      "metadata": {
        "id": "kbzvg6wJtkC2",
        "colab_type": "code",
        "colab": {}
      },
      "source": [
        "lst = []\n",
        "for i in range(20 + 1):\n",
        "    if i % 2 == 1:\n",
        "        lst.append(i)\n",
        "        \n",
        "print (lst)"
      ],
      "execution_count": null,
      "outputs": []
    },
    {
      "cell_type": "markdown",
      "metadata": {
        "id": "pkI-oqEstkC3",
        "colab_type": "text"
      },
      "source": [
        "**extend** - add to the end of our list all elements from another"
      ]
    },
    {
      "cell_type": "code",
      "metadata": {
        "id": "bJ38CG9qtkC4",
        "colab_type": "code",
        "colab": {}
      },
      "source": [
        "a = [1,4]\n",
        "b = [1, 2, 7]\n",
        "c = a + b\n",
        "print(a, b, c)\n",
        "a[1] = 5\n",
        "print(a, b, c)\n"
      ],
      "execution_count": null,
      "outputs": []
    },
    {
      "cell_type": "code",
      "metadata": {
        "id": "T5rCiZIXtkC6",
        "colab_type": "code",
        "colab": {}
      },
      "source": [
        "lst = [1, 4]\n",
        "lst.extend([1,2,7])\n",
        "lst"
      ],
      "execution_count": null,
      "outputs": []
    },
    {
      "cell_type": "markdown",
      "metadata": {
        "id": "JC-OziK3tkC7",
        "colab_type": "text"
      },
      "source": [
        "**count** - count the number of occurrences of an element in a list"
      ]
    },
    {
      "cell_type": "code",
      "metadata": {
        "id": "aff0dGqbtkC7",
        "colab_type": "code",
        "colab": {}
      },
      "source": [
        "lst = [1, 7, -5, 6, 0, 1]\n",
        "lst.count(1)"
      ],
      "execution_count": null,
      "outputs": []
    },
    {
      "cell_type": "markdown",
      "metadata": {
        "id": "cHiuxG2NtkC9",
        "colab_type": "text"
      },
      "source": [
        "**sort** - sort the list in place"
      ]
    },
    {
      "cell_type": "code",
      "metadata": {
        "id": "wty9-vgStkC9",
        "colab_type": "code",
        "colab": {}
      },
      "source": [
        "lst.sort()\n",
        "lst"
      ],
      "execution_count": null,
      "outputs": []
    },
    {
      "cell_type": "markdown",
      "metadata": {
        "id": "OlvFjylTtkC-",
        "colab_type": "text"
      },
      "source": [
        "**index** - find the first index of the value in the list, if there is no value, then an error will be returned"
      ]
    },
    {
      "cell_type": "code",
      "metadata": {
        "id": "5fN4IFlCtkC_",
        "colab_type": "code",
        "colab": {}
      },
      "source": [
        "lst.index(0)"
      ],
      "execution_count": null,
      "outputs": []
    },
    {
      "cell_type": "markdown",
      "metadata": {
        "id": "d688ESLItkDA",
        "colab_type": "text"
      },
      "source": [
        "### String methods"
      ]
    },
    {
      "cell_type": "markdown",
      "metadata": {
        "id": "8OXQxVzctkDB",
        "colab_type": "text"
      },
      "source": [
        "For strings, in addition to the `split` method parsed in the last lesson, there are also many other methods. Note that, unlike a list, if these methods involve modifying a string, they will return a NEW string."
      ]
    },
    {
      "cell_type": "markdown",
      "metadata": {
        "id": "XfvcLCd2tkDD",
        "colab_type": "text"
      },
      "source": [
        "**strip** - removes line breaks and other 'space' characters at the edges of the line. There are analogues - `rstrip` and `lstrip`, which remove these characters from one side only."
      ]
    },
    {
      "cell_type": "code",
      "metadata": {
        "id": "Ewq5lGtqtkDD",
        "colab_type": "code",
        "colab": {}
      },
      "source": [
        "a = \"   hello \\n\"\n",
        "b = a.strip()\n",
        "print (b)\n",
        "print(\"START:\", a, \"END\")"
      ],
      "execution_count": null,
      "outputs": []
    },
    {
      "cell_type": "markdown",
      "metadata": {
        "id": "sqRdMmLVtkDF",
        "colab_type": "text"
      },
      "source": [
        "**replace** - replace all occurrences of one substring with another"
      ]
    },
    {
      "cell_type": "code",
      "metadata": {
        "id": "jcpFyqYptkDF",
        "colab_type": "code",
        "colab": {}
      },
      "source": [
        "a = \"hello, hello, hello\"\n",
        "b = a.replace(\"hello\", \"hell\")\n",
        "print(b)"
      ],
      "execution_count": null,
      "outputs": []
    },
    {
      "cell_type": "markdown",
      "metadata": {
        "id": "_KgLr53DtkDH",
        "colab_type": "text"
      },
      "source": [
        "**find** - find an occurrence of a substring in a string. If there is no substring in the string, then return -1"
      ]
    },
    {
      "cell_type": "code",
      "metadata": {
        "scrolled": true,
        "id": "fhBbCEjbtkDH",
        "colab_type": "code",
        "colab": {}
      },
      "source": [
        "a = \"Hello, world\"\n",
        "a.find(\"world\")"
      ],
      "execution_count": null,
      "outputs": []
    },
    {
      "cell_type": "code",
      "metadata": {
        "id": "2TTPTRr6tkDJ",
        "colab_type": "code",
        "colab": {}
      },
      "source": [
        "a.find(\"wild\")"
      ],
      "execution_count": null,
      "outputs": []
    },
    {
      "cell_type": "code",
      "metadata": {
        "id": "c01jU0v0tkDL",
        "colab_type": "code",
        "colab": {}
      },
      "source": [
        "a = \"hello, hello, hello\"\n",
        "f_ind = a.find(\"hello\")\n",
        "print (f_ind )\n",
        "print (a.find(\"hello\", f_ind  + 1)) # find from the specified position"
      ],
      "execution_count": null,
      "outputs": []
    },
    {
      "cell_type": "code",
      "metadata": {
        "id": "NbkAiReCtkDM",
        "colab_type": "code",
        "colab": {}
      },
      "source": [
        "?a.find"
      ],
      "execution_count": null,
      "outputs": []
    },
    {
      "cell_type": "markdown",
      "metadata": {
        "id": "k3y3t8hOtkDO",
        "colab_type": "text"
      },
      "source": [
        "To check if a string is contained in another string, one can simply use the **in** keyword"
      ]
    },
    {
      "cell_type": "code",
      "metadata": {
        "id": "27e3bDDttkDO",
        "colab_type": "code",
        "colab": {}
      },
      "source": [
        "print (\"wo\" in \"world\")\n",
        "print (\"he\" in \"world\")"
      ],
      "execution_count": null,
      "outputs": []
    },
    {
      "cell_type": "markdown",
      "metadata": {
        "id": "tULnwinBtkDP",
        "colab_type": "text"
      },
      "source": [
        "**startswith** - if the string begins with the given substring"
      ]
    },
    {
      "cell_type": "code",
      "metadata": {
        "id": "PvXP4M5StkDQ",
        "colab_type": "code",
        "colab": {}
      },
      "source": [
        "print (a.startswith(\"hello\"))\n",
        "print (a.startswith(\"ello\"))"
      ],
      "execution_count": null,
      "outputs": []
    },
    {
      "cell_type": "markdown",
      "metadata": {
        "id": "QBLt9_2etkDT",
        "colab_type": "text"
      },
      "source": [
        "**endswith** - if the string ends with the given substring"
      ]
    },
    {
      "cell_type": "code",
      "metadata": {
        "id": "kszQvXf4tkDT",
        "colab_type": "code",
        "colab": {}
      },
      "source": [
        "print (a.endswith(\"hello\"))\n",
        "print (a.endswith(\"he\"))"
      ],
      "execution_count": null,
      "outputs": []
    },
    {
      "cell_type": "markdown",
      "metadata": {
        "id": "bvmxgueAtkDW",
        "colab_type": "text"
      },
      "source": [
        "**join** - join multiple strings separated by specified separator symbol"
      ]
    },
    {
      "cell_type": "code",
      "metadata": {
        "id": "fVHIuZdEtkDW",
        "colab_type": "code",
        "colab": {}
      },
      "source": [
        "\", \".join([\"1\", \"2\", \"apple\"])"
      ],
      "execution_count": null,
      "outputs": []
    },
    {
      "cell_type": "code",
      "metadata": {
        "id": "uuOR6swvtkDX",
        "colab_type": "code",
        "colab": {}
      },
      "source": [
        "a = list(\"ATGATAGATAG\")\n",
        "a"
      ],
      "execution_count": null,
      "outputs": []
    },
    {
      "cell_type": "code",
      "metadata": {
        "id": "lMzdWXXktkDZ",
        "colab_type": "code",
        "colab": {}
      },
      "source": [
        "\"\".join(a)"
      ],
      "execution_count": null,
      "outputs": []
    },
    {
      "cell_type": "markdown",
      "metadata": {
        "id": "GS_F0C4otkDa",
        "colab_type": "text"
      },
      "source": [
        "# Dictionaries"
      ]
    },
    {
      "cell_type": "markdown",
      "metadata": {
        "id": "VFnox0PztkDb",
        "colab_type": "text"
      },
      "source": [
        "Often we are faced with the task of finding a different value corresponding to it for some unnumbered meaning. For example, according to the person's full name, her passport number\n",
        "\n",
        "**Dictionary** (dict) is a data type that stores the correspondence of some values ​​to others (dictionary keys).\n",
        "The easiest way to create a dictionary is to use curly braces ({})"
      ]
    },
    {
      "cell_type": "code",
      "metadata": {
        "id": "Kn4rD88htkDb",
        "colab_type": "code",
        "colab": {}
      },
      "source": [
        "my_dict = { \"Dmitry\" : 5,\n",
        "            \"Alexander\" : 10,\n",
        "            \"Jupyter\": 20}\n",
        "my_dict"
      ],
      "execution_count": null,
      "outputs": []
    },
    {
      "cell_type": "markdown",
      "metadata": {
        "id": "7ak5meXctkDc",
        "colab_type": "text"
      },
      "source": [
        "To get the value corresponding to the key, you need to type the name of the dictionary and the key in square brackets."
      ]
    },
    {
      "cell_type": "code",
      "metadata": {
        "id": "w6sdpX_8tkDd",
        "colab_type": "code",
        "colab": {}
      },
      "source": [
        "my_dict['Jupyter']"
      ],
      "execution_count": null,
      "outputs": []
    },
    {
      "cell_type": "markdown",
      "metadata": {
        "id": "1eLQUCq_tkDe",
        "colab_type": "text"
      },
      "source": [
        "If there is no key with such a value, you will get an error:"
      ]
    },
    {
      "cell_type": "code",
      "metadata": {
        "id": "MqD2aE80tkDe",
        "colab_type": "code",
        "colab": {}
      },
      "source": [
        "my_dict['Dogs']"
      ],
      "execution_count": null,
      "outputs": []
    },
    {
      "cell_type": "markdown",
      "metadata": {
        "id": "0WJueqkAtkDg",
        "colab_type": "text"
      },
      "source": [
        "You can use the `dict.get(key, default_value=None)` method in order to get a default value in the absence of a key in the dictionary"
      ]
    },
    {
      "cell_type": "code",
      "metadata": {
        "scrolled": true,
        "id": "ZLpJmKiKtkDg",
        "colab_type": "code",
        "colab": {}
      },
      "source": [
        "print (my_dict.get(\"Dogs\")) # return None "
      ],
      "execution_count": null,
      "outputs": []
    },
    {
      "cell_type": "code",
      "metadata": {
        "id": "YfpXX0V8tkDi",
        "colab_type": "code",
        "colab": {}
      },
      "source": [
        "my_dict.get(\"Dogs\", 5)"
      ],
      "execution_count": null,
      "outputs": []
    },
    {
      "cell_type": "code",
      "metadata": {
        "id": "UEBIjgN3tkDj",
        "colab_type": "code",
        "colab": {}
      },
      "source": [
        "my_dict.get(\"Jupyter\", 5)"
      ],
      "execution_count": null,
      "outputs": []
    },
    {
      "cell_type": "markdown",
      "metadata": {
        "id": "36dDRqGwtkDo",
        "colab_type": "text"
      },
      "source": [
        "#### Checking for a key in a dictionary\n",
        "\n",
        "As with other collections, the command **in** is used to check for a key in the dictionary."
      ]
    },
    {
      "cell_type": "code",
      "metadata": {
        "id": "tKM7XhYBtkDp",
        "colab_type": "code",
        "colab": {}
      },
      "source": [
        "if \"Dogs\" in my_dict:\n",
        "    print(\"Hello\")\n",
        "else:\n",
        "    print(\"World\")"
      ],
      "execution_count": null,
      "outputs": []
    },
    {
      "cell_type": "markdown",
      "metadata": {
        "id": "JOpSc8XotkDq",
        "colab_type": "text"
      },
      "source": [
        "### Loop through dictionary keys\n",
        "\n",
        "Loop through dictionary keys can be done in two ways\n",
        "\n",
        "Note that dictionary methods that 'return' what is stored in it return not-quite-lists, this cannot be treated like a list"
      ]
    },
    {
      "cell_type": "code",
      "metadata": {
        "id": "ny6qZJ-YtkDq",
        "colab_type": "code",
        "colab": {}
      },
      "source": [
        "my_dict.keys()"
      ],
      "execution_count": null,
      "outputs": []
    },
    {
      "cell_type": "code",
      "metadata": {
        "id": "V_7kcS_DtkDt",
        "colab_type": "code",
        "colab": {}
      },
      "source": [
        "for key in my_dict.keys():\n",
        "    print (key)"
      ],
      "execution_count": null,
      "outputs": []
    },
    {
      "cell_type": "code",
      "metadata": {
        "id": "ymIpsEV-tkDv",
        "colab_type": "code",
        "colab": {}
      },
      "source": [
        "for key in my_dict:\n",
        "    print (key)"
      ],
      "execution_count": null,
      "outputs": []
    },
    {
      "cell_type": "markdown",
      "metadata": {
        "id": "CQlrtxbOtkDx",
        "colab_type": "text"
      },
      "source": [
        "### Loop through dictionary values"
      ]
    },
    {
      "cell_type": "code",
      "metadata": {
        "id": "bzTmEbJ3tkDx",
        "colab_type": "code",
        "colab": {}
      },
      "source": [
        "my_dict.values()"
      ],
      "execution_count": null,
      "outputs": []
    },
    {
      "cell_type": "code",
      "metadata": {
        "id": "hwu1k4MAtkDz",
        "colab_type": "code",
        "colab": {}
      },
      "source": [
        "for value in my_dict.values():\n",
        "    print (value)"
      ],
      "execution_count": null,
      "outputs": []
    },
    {
      "cell_type": "markdown",
      "metadata": {
        "id": "WvddG_8UtkD0",
        "colab_type": "text"
      },
      "source": [
        "Loop through the keys and values ​​of a dictionary"
      ]
    },
    {
      "cell_type": "code",
      "metadata": {
        "id": "yc3I01uptkD0",
        "colab_type": "code",
        "colab": {}
      },
      "source": [
        "for key in my_dict.keys():\n",
        "    value = my_dict[key]\n",
        "    print (key, value)"
      ],
      "execution_count": null,
      "outputs": []
    },
    {
      "cell_type": "code",
      "metadata": {
        "id": "F-grza8ttkD1",
        "colab_type": "code",
        "colab": {}
      },
      "source": [
        "my_dict.items()"
      ],
      "execution_count": null,
      "outputs": []
    },
    {
      "cell_type": "code",
      "metadata": {
        "id": "8s1lxsNEtkD3",
        "colab_type": "code",
        "colab": {}
      },
      "source": [
        "for key, value in my_dict.items():\n",
        "    print (key, value)"
      ],
      "execution_count": null,
      "outputs": []
    },
    {
      "cell_type": "code",
      "metadata": {
        "id": "8CItxJ6HtkD4",
        "colab_type": "code",
        "colab": {}
      },
      "source": [
        "list(my_dict.keys())"
      ],
      "execution_count": null,
      "outputs": []
    },
    {
      "cell_type": "code",
      "metadata": {
        "id": "OODNEeI1tkD6",
        "colab_type": "code",
        "colab": {}
      },
      "source": [
        "list(my_dict.values())"
      ],
      "execution_count": null,
      "outputs": []
    },
    {
      "cell_type": "code",
      "metadata": {
        "id": "HfzMExzmtkD7",
        "colab_type": "code",
        "colab": {}
      },
      "source": [
        "list(my_dict.items())"
      ],
      "execution_count": null,
      "outputs": []
    },
    {
      "cell_type": "markdown",
      "metadata": {
        "id": "XxJsHdbhtkD8",
        "colab_type": "text"
      },
      "source": [
        "### Adding items to the dictionary\n"
      ]
    },
    {
      "cell_type": "markdown",
      "metadata": {
        "id": "Y9lJpIRLtkD8",
        "colab_type": "text"
      },
      "source": [
        "A dictionary can store any object as a value, but as a key it needs special objects, in the first approximation immutable - numbers and strings, for example."
      ]
    },
    {
      "cell_type": "code",
      "metadata": {
        "id": "sblQfpo7tkD9",
        "colab_type": "code",
        "colab": {}
      },
      "source": [
        "d = dict() # another way to create dict\n",
        "# d = {}\n",
        "d[10] = \"Hello\"\n",
        "d"
      ],
      "execution_count": null,
      "outputs": []
    },
    {
      "cell_type": "code",
      "metadata": {
        "id": "vUfRaIlbtkD-",
        "colab_type": "code",
        "colab": {}
      },
      "source": [
        "d[\"hello\"] = \"world\"\n",
        "d"
      ],
      "execution_count": null,
      "outputs": []
    },
    {
      "cell_type": "code",
      "metadata": {
        "id": "uF2QDp2dtkD_",
        "colab_type": "code",
        "colab": {}
      },
      "source": [
        "d[10] = -100\n",
        "d"
      ],
      "execution_count": null,
      "outputs": []
    },
    {
      "cell_type": "code",
      "metadata": {
        "scrolled": true,
        "id": "ql9rVxs_tkEA",
        "colab_type": "code",
        "colab": {}
      },
      "source": [
        "my_key = \"hi\"\n",
        "my_value = [1,2,3]\n",
        "d[my_key] = my_value\n",
        "d"
      ],
      "execution_count": null,
      "outputs": []
    },
    {
      "cell_type": "code",
      "metadata": {
        "id": "d1HkgyVNtkEF",
        "colab_type": "code",
        "colab": {}
      },
      "source": [
        "d[[1,2,3]] = 5  \n",
        "\n",
        "# error, list is mutable"
      ],
      "execution_count": null,
      "outputs": []
    },
    {
      "cell_type": "markdown",
      "metadata": {
        "id": "3JsVPdsatkEG",
        "colab_type": "text"
      },
      "source": [
        "### Removing items from a dictionary"
      ]
    },
    {
      "cell_type": "code",
      "metadata": {
        "id": "Y2_YshH2tkEG",
        "colab_type": "code",
        "colab": {}
      },
      "source": [
        "a = {\"A\" : 0,\n",
        "     \"T\" : 1, \n",
        "     \"G\": 2, \n",
        "     \"C\" : 3, \n",
        "     \"G\" : 4, \n",
        "     \"U\" : 5}\n"
      ],
      "execution_count": null,
      "outputs": []
    },
    {
      "cell_type": "code",
      "metadata": {
        "id": "X0dgM48wtkEI",
        "colab_type": "code",
        "colab": {}
      },
      "source": [
        "a"
      ],
      "execution_count": null,
      "outputs": []
    },
    {
      "cell_type": "code",
      "metadata": {
        "id": "78sXFrMatkEJ",
        "colab_type": "code",
        "colab": {}
      },
      "source": [
        "del a['U']\n",
        "a"
      ],
      "execution_count": null,
      "outputs": []
    },
    {
      "cell_type": "code",
      "metadata": {
        "scrolled": true,
        "id": "T0NEf_y5tkEK",
        "colab_type": "code",
        "colab": {}
      },
      "source": [
        "del a['U']"
      ],
      "execution_count": null,
      "outputs": []
    },
    {
      "cell_type": "markdown",
      "metadata": {
        "id": "a18AsiaBtkEL",
        "colab_type": "text"
      },
      "source": [
        "You can use the `pop` method - it is more correct"
      ]
    },
    {
      "cell_type": "code",
      "metadata": {
        "id": "V2aXIr_utkEN",
        "colab_type": "code",
        "colab": {}
      },
      "source": [
        "a = {\"A\" : 0, \"T\" : 1, \"G\": 2, \"C\" : 3, \"G\" : 4, \"U\" : 5}\n",
        "a.pop('U')\n",
        "a"
      ],
      "execution_count": null,
      "outputs": []
    },
    {
      "cell_type": "code",
      "metadata": {
        "id": "bh4DJ5yEtkEO",
        "colab_type": "code",
        "colab": {}
      },
      "source": [
        "a.pop('U')"
      ],
      "execution_count": null,
      "outputs": []
    },
    {
      "cell_type": "code",
      "metadata": {
        "id": "Lzu3DjbStkEP",
        "colab_type": "code",
        "colab": {}
      },
      "source": [
        "a.pop('U', None)"
      ],
      "execution_count": null,
      "outputs": []
    },
    {
      "cell_type": "markdown",
      "metadata": {
        "id": "3x2_LaVstkEQ",
        "colab_type": "text"
      },
      "source": [
        "**But you should't do like this!**"
      ]
    },
    {
      "cell_type": "code",
      "metadata": {
        "id": "pt8PPkE3tkEQ",
        "colab_type": "code",
        "colab": {}
      },
      "source": [
        "a = {\"A\" : 0, \n",
        "     \"T\" : 1,\n",
        "     \"G\": 2, \n",
        "     \"C\" : 3, \n",
        "     \"G\" : 4,\n",
        "     \"U\" : 5}\n",
        "\n",
        "for key in a.keys():\n",
        "    if key == \"C\":\n",
        "        a.pop(key)\n",
        "    "
      ],
      "execution_count": null,
      "outputs": []
    },
    {
      "cell_type": "markdown",
      "metadata": {
        "id": "p_s7jmbNtkER",
        "colab_type": "text"
      },
      "source": [
        "You can work around the problem like this:"
      ]
    },
    {
      "cell_type": "code",
      "metadata": {
        "id": "v385XsJ5tkER",
        "colab_type": "code",
        "colab": {}
      },
      "source": [
        "a = {\"A\" : 0, \"TC\" : 1, \n",
        "     \"G\": 2, \"CG\" : 3, \n",
        "     \"GC\" : 4, \"U\" : 5}\n",
        "\n",
        "keys = list(a.keys())\n",
        "for key in keys:\n",
        "    if \"C\" in key:\n",
        "        a.pop(key)\n",
        "a"
      ],
      "execution_count": null,
      "outputs": []
    },
    {
      "cell_type": "markdown",
      "metadata": {
        "id": "ySs3VLnRtkET",
        "colab_type": "text"
      },
      "source": [
        "### Key order in the dictionary"
      ]
    },
    {
      "cell_type": "markdown",
      "metadata": {
        "id": "Cf0NMVIotkET",
        "colab_type": "text"
      },
      "source": [
        "Prior to Python version 3.5, no one guaranteed you any order of the keys in the dictionary. So, how they were given to you by the keys function, etc., did not depend neither on the order of insertion of elements, nor on the result of their comparison directly."
      ]
    },
    {
      "cell_type": "markdown",
      "metadata": {
        "id": "FwIh0kjPtkEU",
        "colab_type": "text"
      },
      "source": [
        "However, since the Pythonversion 3.7, **the keys order** in the dictionary matches the **order of their insertion** into it. If the key already existed in the dictionary and you overwrote it, then the order of the keys will not change."
      ]
    },
    {
      "cell_type": "markdown",
      "metadata": {
        "id": "Cdq5mbBctkEU",
        "colab_type": "text"
      },
      "source": [
        "### Advantages of dictionaries\n",
        "\n",
        "Retrieving a value by key and adding a new key to the dictionary is much faster than if you had to iterate over the list looking for the desired value.\n",
        "As a result, there is a huge set of tasks where dictionaries could and should be used.\n",
        "Together with lists dicts provide the ability to present a data structure of any complexity.\n",
        "\n",
        "### Disadvantages of dictionaries\n",
        "\n",
        "Dictionaries consume a lot of memory.\n",
        "All dictionary operations are fast on average - a single operation can take a very long time."
      ]
    },
    {
      "cell_type": "markdown",
      "metadata": {
        "id": "D0aD6UvktkEU",
        "colab_type": "text"
      },
      "source": [
        "# Tuples"
      ]
    },
    {
      "cell_type": "markdown",
      "metadata": {
        "id": "hsCyu549tkEU",
        "colab_type": "text"
      },
      "source": [
        "If you really want to make a list to be the key of the dictionary, then you need to use a tuple. At first glance, a tuple differs from a list only by replacing square brackets with parentheses, for example:"
      ]
    },
    {
      "cell_type": "code",
      "metadata": {
        "id": "dkCPwiG9tkEV",
        "colab_type": "code",
        "colab": {}
      },
      "source": [
        "ta = (1, 2, 5, 4)\n",
        "ta[0]"
      ],
      "execution_count": null,
      "outputs": []
    },
    {
      "cell_type": "code",
      "metadata": {
        "id": "jHDYkVS7tkEY",
        "colab_type": "code",
        "colab": {}
      },
      "source": [
        "a = (1)\n",
        "print (a)\n",
        "\n",
        "a = (1, )\n",
        "print(a)"
      ],
      "execution_count": null,
      "outputs": []
    },
    {
      "cell_type": "markdown",
      "metadata": {
        "id": "FSEDE1rEtkEZ",
        "colab_type": "text"
      },
      "source": [
        "A tuple is a lot like a list, but the main difference is that a tuple is immutable."
      ]
    },
    {
      "cell_type": "code",
      "metadata": {
        "id": "Ikazsqw8tkEZ",
        "colab_type": "code",
        "colab": {}
      },
      "source": [
        "ta[0] = 5"
      ],
      "execution_count": null,
      "outputs": []
    },
    {
      "cell_type": "code",
      "metadata": {
        "id": "_7HLf0cftkEa",
        "colab_type": "code",
        "colab": {}
      },
      "source": [
        "dt = {}\n",
        "\n",
        "dt[(1, 2)] = \"Hello\"\n",
        "dt[(2, 1)] = \"world\"\n",
        "dt"
      ],
      "execution_count": null,
      "outputs": []
    },
    {
      "cell_type": "code",
      "metadata": {
        "id": "tfRnfRoVtkEc",
        "colab_type": "code",
        "colab": {}
      },
      "source": [
        "dt[(1,2)]"
      ],
      "execution_count": null,
      "outputs": []
    },
    {
      "cell_type": "markdown",
      "metadata": {
        "id": "i4X3L82etkEe",
        "colab_type": "text"
      },
      "source": [
        "Apart from being able to serve as a dictionary key, in the case of tuples, access operations (get an element of a tuple, slice, etc.) are faster. Python can optimize a program that creates many small tuples which is not available for lists. \n",
        "\n",
        "On the other hand, any operation of editing a tuple leads to the creation of a new tuple, which in large quantities can slow down the program and eat up your computer's memory."
      ]
    },
    {
      "cell_type": "markdown",
      "metadata": {
        "id": "rp5-uWaktkEe",
        "colab_type": "text"
      },
      "source": [
        "# Set"
      ]
    },
    {
      "cell_type": "markdown",
      "metadata": {
        "id": "vBApLzh4tkEe",
        "colab_type": "text"
      },
      "source": [
        "In some cases, it is convenient to use the set data type. This is exactly a set in the mathematical sense: its elements are unique and cannot be repeated (unlike in a list or tuple)."
      ]
    },
    {
      "cell_type": "code",
      "metadata": {
        "id": "ma97iTIztkEf",
        "colab_type": "code",
        "colab": {}
      },
      "source": [
        "s = {-10, 20, 45}\n",
        "s.add(348)\n",
        "s.add(-100000)\n",
        "s.add(-10)\n",
        "s"
      ],
      "execution_count": null,
      "outputs": []
    },
    {
      "cell_type": "code",
      "metadata": {
        "id": "ze5b3wyItkEi",
        "colab_type": "code",
        "colab": {}
      },
      "source": [
        "my_set1 = {1, 7, 9} # first way to create set\n",
        "my_set2 = set([0, -4, 10, 1]) # second way\n"
      ],
      "execution_count": null,
      "outputs": []
    },
    {
      "cell_type": "code",
      "metadata": {
        "id": "RN-T6U2XtkEk",
        "colab_type": "code",
        "colab": {}
      },
      "source": [
        "lst = [1, 10, -5, -5, 20]\n",
        "my_set = set(lst)\n",
        "my_set"
      ],
      "execution_count": null,
      "outputs": []
    },
    {
      "cell_type": "code",
      "metadata": {
        "id": "oar3mEnatkEm",
        "colab_type": "code",
        "colab": {}
      },
      "source": [
        "for elem in my_set:\n",
        "    print(elem)"
      ],
      "execution_count": null,
      "outputs": []
    },
    {
      "cell_type": "markdown",
      "metadata": {
        "id": "ZfWxA_HGtkEn",
        "colab_type": "text"
      },
      "source": [
        "Sets are used in a typical solution to keep only unique items in the list"
      ]
    },
    {
      "cell_type": "code",
      "metadata": {
        "id": "tFXlMUe9tkEn",
        "colab_type": "code",
        "colab": {}
      },
      "source": [
        "lst = [1, 10, -5, -5, 20, -10, 20, 0, 0, 0]\n",
        "my_set = set(lst)\n",
        "unique_lst = list(my_set)\n",
        "unique_lst"
      ],
      "execution_count": null,
      "outputs": []
    },
    {
      "cell_type": "markdown",
      "metadata": {
        "id": "cg-I4h0OtkEo",
        "colab_type": "text"
      },
      "source": [
        "Operations of union, intersection and difference are defined on sets."
      ]
    },
    {
      "cell_type": "code",
      "metadata": {
        "id": "DYkr7WTntkEo",
        "colab_type": "code",
        "colab": {}
      },
      "source": [
        "my_set1 & my_set2 # intersection"
      ],
      "execution_count": null,
      "outputs": []
    },
    {
      "cell_type": "code",
      "metadata": {
        "id": "jPqbU4jltkEs",
        "colab_type": "code",
        "colab": {}
      },
      "source": [
        "my_set1 | my_set2 # join"
      ],
      "execution_count": null,
      "outputs": []
    },
    {
      "cell_type": "code",
      "metadata": {
        "id": "B3leuSo6tkEt",
        "colab_type": "code",
        "colab": {}
      },
      "source": [
        "my_set1 - my_set2 # difference "
      ],
      "execution_count": null,
      "outputs": []
    },
    {
      "cell_type": "code",
      "metadata": {
        "id": "-W4Q549UtkEv",
        "colab_type": "code",
        "colab": {}
      },
      "source": [
        "my_set1.symmetric_difference(my_set2)"
      ],
      "execution_count": null,
      "outputs": []
    },
    {
      "cell_type": "markdown",
      "metadata": {
        "id": "-0QGanOKtkEx",
        "colab_type": "text"
      },
      "source": [
        "You can check for the presence of an element in a set using the already known **in** keyword"
      ]
    },
    {
      "cell_type": "code",
      "metadata": {
        "id": "FsmndhaltkEx",
        "colab_type": "code",
        "colab": {}
      },
      "source": [
        "5 in my_set1"
      ],
      "execution_count": null,
      "outputs": []
    },
    {
      "cell_type": "code",
      "metadata": {
        "id": "Rj8fuBFctkEy",
        "colab_type": "code",
        "colab": {}
      },
      "source": [
        "nucleotides = {\"A\", \"G\", \"T\", \"U\", \"C\"}\n",
        "\n",
        "n = input()\n",
        "\n",
        "if not (n in nucleotides):\n",
        "    print (\"error\")\n"
      ],
      "execution_count": null,
      "outputs": []
    },
    {
      "cell_type": "code",
      "metadata": {
        "id": "R4AqzOcdtkEz",
        "colab_type": "code",
        "colab": {}
      },
      "source": [
        "nucleotides = {\"A\", \"G\", \"T\", \"U\", \"C\"}\n",
        "\n",
        "n = input()\n",
        "\n",
        "if n not in nucleotides:\n",
        "    print (\"error\")\n"
      ],
      "execution_count": null,
      "outputs": []
    },
    {
      "cell_type": "markdown",
      "metadata": {
        "id": "xWhTWD3DtkE0",
        "colab_type": "text"
      },
      "source": [
        "Set is a mutable type (cannot be a dictionary key, but can be a dictionary value). Mutability is needed to use the `add`, `pop`, and `remove` methods that are convenient in some situations"
      ]
    },
    {
      "cell_type": "code",
      "metadata": {
        "id": "9wRWEAZ-tkE0",
        "colab_type": "code",
        "colab": {}
      },
      "source": [
        "print (my_set1.pop())\n",
        "my_set1"
      ],
      "execution_count": null,
      "outputs": []
    },
    {
      "cell_type": "code",
      "metadata": {
        "id": "ratl14YCtkE2",
        "colab_type": "code",
        "colab": {}
      },
      "source": [
        "my_set1.add(5)\n",
        "my_set1"
      ],
      "execution_count": null,
      "outputs": []
    },
    {
      "cell_type": "markdown",
      "metadata": {
        "id": "ycz-hZEttkE3",
        "colab_type": "text"
      },
      "source": [
        "### Order of elements in a set"
      ]
    },
    {
      "cell_type": "markdown",
      "metadata": {
        "id": "VyWwxCBwtkE3",
        "colab_type": "text"
      },
      "source": [
        "The order of the elements in the set is still not guaranteed and does not depend on anything. Your launch result may differ, for example)"
      ]
    },
    {
      "cell_type": "code",
      "metadata": {
        "id": "SPoUg-YytkE3",
        "colab_type": "code",
        "colab": {}
      },
      "source": [
        "s = {-10, 20, 45}\n",
        "s.add(348)\n",
        "s.add(-100000)\n",
        "s"
      ],
      "execution_count": null,
      "outputs": []
    },
    {
      "cell_type": "markdown",
      "metadata": {
        "id": "I-3NnkxOtkE5",
        "colab_type": "text"
      },
      "source": [
        "## Frozenset"
      ]
    },
    {
      "cell_type": "markdown",
      "metadata": {
        "id": "gkrWyHJMtkE5",
        "colab_type": "text"
      },
      "source": [
        "The immutable counterpart to `set` is **frozenset**. Unlike a regular set, it can be used as a key in a dictionary."
      ]
    },
    {
      "cell_type": "code",
      "metadata": {
        "id": "C_NySsl-tkE5",
        "colab_type": "code",
        "colab": {}
      },
      "source": [
        "my_frozen = frozenset([4, 5, 6])\n",
        "my_frozen"
      ],
      "execution_count": null,
      "outputs": []
    },
    {
      "cell_type": "code",
      "metadata": {
        "id": "PuL8_jLOtkE6",
        "colab_type": "code",
        "colab": {}
      },
      "source": [
        "my_frozen.add(4)"
      ],
      "execution_count": null,
      "outputs": []
    },
    {
      "cell_type": "markdown",
      "metadata": {
        "id": "Q-rOUvEQtkE8",
        "colab_type": "text"
      },
      "source": [
        "###  Collections\n",
        "\n",
        "The `collections` module has several modifications to the standard dictionary that make some things much easier (for example, counting different items in a list)"
      ]
    },
    {
      "cell_type": "markdown",
      "metadata": {
        "id": "FmI6U0YrtkE9",
        "colab_type": "text"
      },
      "source": [
        "#### Counter"
      ]
    },
    {
      "cell_type": "code",
      "metadata": {
        "scrolled": true,
        "id": "7XWgruACtkE-",
        "colab_type": "code",
        "colab": {}
      },
      "source": [
        "from collections import Counter\n",
        "\n",
        "nucleotides = [\"A\", \"T\", \"G\", \"C\"]\n",
        "seq = \"ATAATATATATGAGGCGGCGCGCGCG\"\n",
        "cnt = Counter(seq)\n",
        "print(cnt)\n",
        "for n in nucleotides:\n",
        "    print (cnt[n])"
      ],
      "execution_count": null,
      "outputs": []
    },
    {
      "cell_type": "markdown",
      "metadata": {
        "id": "CEwYXAsWtkFA",
        "colab_type": "text"
      },
      "source": [
        "#### defaultdict"
      ]
    },
    {
      "cell_type": "code",
      "metadata": {
        "scrolled": true,
        "id": "7Nc9NQYetkFA",
        "colab_type": "code",
        "colab": {}
      },
      "source": [
        "from collections import defaultdict\n",
        "\n",
        "dl_dict = defaultdict(list) \n",
        "# for each key that is not in the dictionary, but we asked for it - create an empty list by default\n",
        "print(dl_dict)\n",
        "print(dl_dict[1])\n",
        "print(dl_dict)\n",
        "dl_dict[1].append(\"A\")\n",
        "dl_dict[1].append(\"A\")\n",
        "dl_dict[2].append(\"A\")\n",
        "dl_dict[100].append(\"C\")\n",
        "print (\"dict: \", dl_dict, sep=\"   \")\n",
        "print (\"dict[1]\", dl_dict[1], sep=\"   \")\n",
        "print (\"dict[20]\", dl_dict[20], sep=\"   \")\n",
        "print (\"dict\", dl_dict, sep=\"  \")"
      ],
      "execution_count": null,
      "outputs": []
    }
  ]
}