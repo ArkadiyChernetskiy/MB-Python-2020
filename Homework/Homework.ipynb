{
 "metadata": {
  "language_info": {
   "codemirror_mode": {
    "name": "ipython",
    "version": 3
   },
   "file_extension": ".py",
   "mimetype": "text/x-python",
   "name": "python",
   "nbconvert_exporter": "python",
   "pygments_lexer": "ipython3",
   "version": "3.8.3-final"
  },
  "orig_nbformat": 2,
  "kernelspec": {
   "name": "python3",
   "display_name": "Python 3"
  }
 },
 "nbformat": 4,
 "nbformat_minor": 2,
 "cells": [
  {
   "source": [
    "## 1.Asymptotics and sorting (deadline october 20)\n",
    "Rosalind: RNA, REVC, HAMM, FIB, HEA, BINS\n",
    "Calc asymptotics for algorithms below"
   ],
   "cell_type": "markdown",
   "metadata": {}
  },
  {
   "cell_type": "code",
   "execution_count": null,
   "metadata": {},
   "outputs": [],
   "source": [
    "# 0.1 points\n",
    "for i in range (n):\n",
    "    for j in range (n):\n",
    "        something() #O(1)"
   ]
  },
  {
   "cell_type": "code",
   "execution_count": null,
   "metadata": {},
   "outputs": [],
   "source": [
    "#0.2 points\n",
    "def a(n):\n",
    "    if n == 0: return 1\n",
    "    return a(n-1) + 5"
   ]
  },
  {
   "cell_type": "code",
   "execution_count": null,
   "metadata": {},
   "outputs": [],
   "source": [
    "#0.3 points\n",
    "i = 1\n",
    "while i < n:\n",
    "    something() #O(1)\n",
    "    i = i*2"
   ]
  },
  {
   "cell_type": "code",
   "execution_count": null,
   "metadata": {},
   "outputs": [],
   "source": [
    "#0.4 points\n",
    "i = 1\n",
    "j = 1\n",
    "while j < n:\n",
    "    something() #O(1)\n",
    "    j = j + i\n",
    "    i = i + 1"
   ]
  },
  {
   "source": [
    "## 2.Hash Table. (October 30)\n",
    "Implement hash table for elements like (key=big number, value=string), where big number is something like 57324687956.\n",
    "\n",
    "With Separate chaining - 0.7 points. With Open addressing - 1 point."
   ],
   "cell_type": "markdown",
   "metadata": {}
  },
  {
   "source": [
    "## 3.Count words in Json (1 December)"
   ],
   "cell_type": "markdown",
   "metadata": {}
  },
  {
   "source": [
    "Implement programm that counts the number of occurrences of each word (without punctuation marks) in the text. The text you should take from json file \"War and peace.json\" with structure (\"Book name\": \"Part name\": \"Head name\": \\[lines\\]). The result print in other json file like dictionary.\n",
    "\n",
    "- For 0.7 point - just count the number of words (any, include trash like '.') and print it.\n",
    "- For 1 point - original task\n",
    "- For 1.5 points - count the words for each (Book, Part, Head) separately and print into json file with original structure (\\[line\\] -> \\{word:count\\})\n",
    "\n",
    "Hint: regular expression for line split `\\W*\\s+\\W*` - use with re module and function re.split()"
   ],
   "cell_type": "markdown",
   "metadata": {}
  },
  {
   "source": [
    "## 4.Greedy professors (1 December)\n",
    "\n",
    "In our University we always had a problem with the schedules of lessons because of the lack of cabinets. So, I hope that you can help us to create effective schedule of lectures for one lecture auditorium. So, we have a number of requesrs from diffrent professors to gives a lectures. Each professor give us the time of beginning and end of lecture \\[a,b). Each lecture can start at the moment of previous one end (Yea, in MIPT students never take a rest)). Your task give the schedule which contain the maximum possible number of lectures inside a day (or just amount of them) with the complexity no more than `O(N^2)`.\n",
    "```\n",
    "In:\n",
    "N - number of requests\n",
    "a1, b1 - time of the beginning and the end of lecture\n",
    "a2, b2\n",
    "...\n",
    "aN, bN\n",
    "\n",
    "Out:\n",
    "Maximum amount of lectures that we can carry out.\n",
    "```\n",
    "Plus to this you should prove that your algorithm work correctly!\n",
    "```\n",
    "Example:\n",
    "In:\n",
    "3\n",
    "1 5\n",
    "2 3\n",
    "3 4\n",
    "Out:\n",
    "2\n",
    "```"
   ],
   "cell_type": "markdown",
   "metadata": {}
  },
  {
   "cell_type": "code",
   "execution_count": 10,
   "metadata": {},
   "outputs": [],
   "source": [
    "#Test Generator - take in answer for task\n",
    "#return - list of requests\n",
    "import random\n",
    "def generate (answer = 10, max_len = 5):\n",
    "    k = answer\n",
    "    test = []\n",
    "    s = max_len\n",
    "    a=0\n",
    "    b=0\n",
    "    for i in range(k):\n",
    "        a = random.randint (b, b+s//2)\n",
    "        b = random.randint (a+3, a+s+1)\n",
    "        test.append((a,b))\n",
    "    \n",
    "    for i in range (1, k-1):\n",
    "        for j in range (0,k-i):\n",
    "            a = random.randint (test[j][0]+1,test[j][1]-1)\n",
    "            b = random.randint (test[j+i][0]+1,test[j+i][1]-1)\n",
    "            test.append((a,b))\n",
    "    random.shuffle(test)\n",
    "    return test"
   ]
  },
  {
   "cell_type": "code",
   "execution_count": 25,
   "metadata": {},
   "outputs": [
    {
     "output_type": "execute_result",
     "data": {
      "text/plain": [
       "[(27, 30),\n",
       " (26, 43),\n",
       " (45, 50),\n",
       " (32, 38),\n",
       " (21, 29),\n",
       " (29, 40),\n",
       " (40, 51),\n",
       " (13, 34),\n",
       " (23, 51),\n",
       " (6, 11),\n",
       " (18, 36),\n",
       " (9, 15),\n",
       " (18, 49),\n",
       " (10, 21),\n",
       " (4, 9),\n",
       " (29, 37),\n",
       " (41, 47),\n",
       " (35, 40),\n",
       " (14, 40),\n",
       " (3, 28),\n",
       " (22, 27),\n",
       " (8, 25),\n",
       " (15, 23),\n",
       " (25, 40),\n",
       " (28, 49),\n",
       " (9, 39),\n",
       " (26, 37),\n",
       " (4, 39),\n",
       " (15, 51),\n",
       " (1, 5),\n",
       " (17, 22),\n",
       " (2, 35),\n",
       " (25, 28),\n",
       " (8, 44),\n",
       " (8, 34),\n",
       " (38, 41),\n",
       " (12, 16),\n",
       " (8, 29),\n",
       " (3, 24),\n",
       " (19, 39),\n",
       " (8, 49),\n",
       " (15, 19),\n",
       " (20, 44),\n",
       " (20, 25),\n",
       " (28, 45),\n",
       " (4, 46),\n",
       " (48, 52),\n",
       " (14, 42),\n",
       " (3, 19),\n",
       " (3, 13),\n",
       " (37, 49),\n",
       " (34, 44),\n",
       " (14, 28),\n",
       " (40, 44)]"
      ]
     },
     "metadata": {},
     "execution_count": 25
    }
   ],
   "source": [
    "generate()"
   ]
  },
  {
   "source": [
    "## 5.Segment Tree\n",
    "\n",
    "Implement Segment Tree with function 'max' on segment. It should construct from integer array and give the unswer to question \"maximum on segment\" with O(logN) complexity. Plus to this it should correctly work with function \"change the elements on the segment by the specified number\" \n",
    "- 1 point without lazy 'change in segment' function\n",
    "- 1.5 points with lazy 'change in segment' function"
   ],
   "cell_type": "markdown",
   "metadata": {}
  }
 ]
}