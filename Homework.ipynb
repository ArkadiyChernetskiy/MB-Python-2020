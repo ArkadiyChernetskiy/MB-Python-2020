{
 "metadata": {
  "language_info": {
   "codemirror_mode": {
    "name": "ipython",
    "version": 3
   },
   "file_extension": ".py",
   "mimetype": "text/x-python",
   "name": "python",
   "nbconvert_exporter": "python",
   "pygments_lexer": "ipython3",
   "version": 3
  },
  "orig_nbformat": 2
 },
 "nbformat": 4,
 "nbformat_minor": 2,
 "cells": [
  {
   "source": [
    "## 1.Asymptotics and sorting (deadline october 20)\n",
    "Rosalind: RNA, REVC, HAMM, FIB, HEA, BINS\n",
    "Calc asymptotics for algorithms below"
   ],
   "cell_type": "markdown",
   "metadata": {}
  },
  {
   "cell_type": "code",
   "execution_count": null,
   "metadata": {},
   "outputs": [],
   "source": [
    "# 0.1 points\n",
    "for i in range (n):\n",
    "    for j in range (n):\n",
    "        something() #O(1)"
   ]
  },
  {
   "cell_type": "code",
   "execution_count": null,
   "metadata": {},
   "outputs": [],
   "source": [
    "#0.2 points\n",
    "def a(n):\n",
    "    if n == 0: return 1\n",
    "    return a(n-1) + 5"
   ]
  },
  {
   "cell_type": "code",
   "execution_count": null,
   "metadata": {},
   "outputs": [],
   "source": [
    "#0.3 points\n",
    "i = 1\n",
    "while i < n:\n",
    "    something() #O(1)\n",
    "    i = i*2"
   ]
  },
  {
   "cell_type": "code",
   "execution_count": null,
   "metadata": {},
   "outputs": [],
   "source": [
    "#0.4 points\n",
    "i = 1\n",
    "j = 1\n",
    "while j < n:\n",
    "    something() #O(1)\n",
    "    j = j + i\n",
    "    i = i + 1"
   ]
  },
  {
   "source": [
    "## 2. Hash Table. (October 30)\n",
    "Implement hash table for elements like (key=big number, value=string), where big number is something like 57324687956.\n",
    "\n",
    "With Separate chaining - 0.7 points. With Open addressing - 1 point."
   ],
   "cell_type": "markdown",
   "metadata": {}
  }
 ]
}